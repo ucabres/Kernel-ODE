{
  "nbformat": 4,
  "nbformat_minor": 0,
  "metadata": {
    "colab": {
      "name": "Kernel_ODE_Experiments.ipynb",
      "provenance": [],
      "collapsed_sections": [
        "f7uKwfehroUh",
        "pFqvxSzqXAoY"
      ],
      "machine_shape": "hm"
    },
    "kernelspec": {
      "name": "python3",
      "display_name": "Python 3"
    },
    "language_info": {
      "name": "python"
    }
  },
  "cells": [
    {
      "cell_type": "code",
      "metadata": {
        "colab": {
          "base_uri": "https://localhost:8080/"
        },
        "id": "MouqFsYZ6o57",
        "outputId": "90bc834f-ed52-4843-e83c-ae954d665523"
      },
      "source": [
        "from pathlib import Path\n",
        "\n",
        "repo_url  = 'https://github.com/ucabres/Kernel-ODE'\n",
        "project_path        = Path('/').absolute() / 'content'\n",
        "kernelode_repo_path = project_path / 'KernelODEsAdversarial'\n",
        "\n",
        "# Create project folder if inexistant\n",
        "if not project_path.is_dir():\n",
        "    %mkdir \"{project_path}\"\n",
        "%cd \"{project_path}\"\n",
        "\n",
        "# Download repository\n",
        "!git config --global user.name \"ucabres\"\n",
        "!git config --global user.email \"ucabres@ucl.ac.uk\"\n",
        "if kernelode_repo_path.is_dir():\n",
        "    !git -C \"{kernelode_repo_path}\" fetch origin\n",
        "    !git -C \"{kernelode_repo_path}\" checkout origin/main -- *.py\n",
        "else:\n",
        "    print(\"Install repository\")\n",
        "    !git clone {repo_url}"
      ],
      "execution_count": null,
      "outputs": [
        {
          "output_type": "stream",
          "name": "stdout",
          "text": [
            "/content\n",
            "Install repository\n",
            "Cloning into 'KernelODEsAdversarial'...\n",
            "remote: Enumerating objects: 91, done.\u001b[K\n",
            "remote: Counting objects: 100% (91/91), done.\u001b[K\n",
            "remote: Compressing objects: 100% (74/74), done.\u001b[K\n",
            "remote: Total 91 (delta 29), reused 72 (delta 13), pack-reused 0\u001b[K\n",
            "Unpacking objects: 100% (91/91), done.\n"
          ]
        }
      ]
    },
    {
      "cell_type": "code",
      "metadata": {
        "colab": {
          "base_uri": "https://localhost:8080/"
        },
        "id": "Hps7vq8j9SWf",
        "outputId": "45214f70-6419-46be-d440-0b65d2558bbe"
      },
      "source": [
        "%cd KernelODEsAdversarial/"
      ],
      "execution_count": null,
      "outputs": [
        {
          "output_type": "stream",
          "name": "stdout",
          "text": [
            "/content/KernelODEsAdversarial\n"
          ]
        }
      ]
    },
    {
      "cell_type": "code",
      "metadata": {
        "colab": {
          "base_uri": "https://localhost:8080/"
        },
        "id": "NH_j-7pZBt8P",
        "outputId": "4aff3b83-51e9-438c-8a47-d76aa35d3832"
      },
      "source": [
        "!git clone 'https://github.com/cambridge-mlg/cnn-gp'"
      ],
      "execution_count": null,
      "outputs": [
        {
          "output_type": "stream",
          "name": "stdout",
          "text": [
            "Cloning into 'cnn-gp'...\n",
            "remote: Enumerating objects: 126, done.\u001b[K\n",
            "remote: Total 126 (delta 0), reused 0 (delta 0), pack-reused 126\u001b[K\n",
            "Receiving objects: 100% (126/126), 365.64 KiB | 12.61 MiB/s, done.\n",
            "Resolving deltas: 100% (67/67), done.\n"
          ]
        }
      ]
    },
    {
      "cell_type": "code",
      "metadata": {
        "colab": {
          "base_uri": "https://localhost:8080/"
        },
        "id": "w3mHlNXnDM9G",
        "outputId": "1610ed18-b79b-4c62-8972-b66ef456c3a7"
      },
      "source": [
        "%cd cnn-gp\n",
        "%pip install -e .\n",
        "%cd .."
      ],
      "execution_count": null,
      "outputs": [
        {
          "output_type": "stream",
          "name": "stdout",
          "text": [
            "/content/KernelODEsAdversarial/cnn-gp\n",
            "Obtaining file:///content/KernelODEsAdversarial/cnn-gp\n",
            "Requirement already satisfied: numpy>=1.10.0 in /usr/local/lib/python3.7/dist-packages (from cnn-gp==0.1) (1.19.5)\n",
            "Requirement already satisfied: torch>=1.1.0 in /usr/local/lib/python3.7/dist-packages (from cnn-gp==0.1) (1.9.0+cu102)\n",
            "Requirement already satisfied: torchvision>=0.2.0 in /usr/local/lib/python3.7/dist-packages (from cnn-gp==0.1) (0.10.0+cu102)\n",
            "Requirement already satisfied: tqdm>=4.32 in /usr/local/lib/python3.7/dist-packages (from cnn-gp==0.1) (4.62.2)\n",
            "Requirement already satisfied: typing-extensions in /usr/local/lib/python3.7/dist-packages (from torch>=1.1.0->cnn-gp==0.1) (3.7.4.3)\n",
            "Requirement already satisfied: pillow>=5.3.0 in /usr/local/lib/python3.7/dist-packages (from torchvision>=0.2.0->cnn-gp==0.1) (7.1.2)\n",
            "Installing collected packages: cnn-gp\n",
            "  Running setup.py develop for cnn-gp\n",
            "Successfully installed cnn-gp-0.1\n",
            "/content/KernelODEsAdversarial\n"
          ]
        }
      ]
    },
    {
      "cell_type": "code",
      "metadata": {
        "colab": {
          "base_uri": "https://localhost:8080/"
        },
        "id": "8Ga1k_7r95y_",
        "outputId": "8154de49-b594-4a10-a86e-b53aff09fabc"
      },
      "source": [
        "%pip install -r requirements.txt"
      ],
      "execution_count": null,
      "outputs": [
        {
          "output_type": "stream",
          "name": "stdout",
          "text": [
            "Requirement already satisfied: torch in /usr/local/lib/python3.7/dist-packages (from -r requirements.txt (line 1)) (1.9.0+cu102)\n",
            "Collecting torchdiffeq\n",
            "  Downloading torchdiffeq-0.2.2-py3-none-any.whl (31 kB)\n",
            "Collecting pyro-ppl\n",
            "  Downloading pyro_ppl-1.7.0-py3-none-any.whl (678 kB)\n",
            "\u001b[K     |████████████████████████████████| 678 kB 20.7 MB/s \n",
            "\u001b[?25hRequirement already satisfied: typing-extensions in /usr/local/lib/python3.7/dist-packages (from torch->-r requirements.txt (line 1)) (3.7.4.3)\n",
            "Requirement already satisfied: scipy>=1.4.0 in /usr/local/lib/python3.7/dist-packages (from torchdiffeq->-r requirements.txt (line 2)) (1.4.1)\n",
            "Requirement already satisfied: numpy>=1.13.3 in /usr/local/lib/python3.7/dist-packages (from scipy>=1.4.0->torchdiffeq->-r requirements.txt (line 2)) (1.19.5)\n",
            "Requirement already satisfied: opt-einsum>=2.3.2 in /usr/local/lib/python3.7/dist-packages (from pyro-ppl->-r requirements.txt (line 3)) (3.3.0)\n",
            "Requirement already satisfied: tqdm>=4.36 in /usr/local/lib/python3.7/dist-packages (from pyro-ppl->-r requirements.txt (line 3)) (4.62.2)\n",
            "Collecting pyro-api>=0.1.1\n",
            "  Downloading pyro_api-0.1.2-py3-none-any.whl (11 kB)\n",
            "Installing collected packages: pyro-api, torchdiffeq, pyro-ppl\n",
            "Successfully installed pyro-api-0.1.2 pyro-ppl-1.7.0 torchdiffeq-0.2.2\n"
          ]
        }
      ]
    },
    {
      "cell_type": "code",
      "metadata": {
        "colab": {
          "base_uri": "https://localhost:8080/"
        },
        "id": "0TBiW511-EdB",
        "outputId": "53408a71-d799-4bec-90ff-abea7e7963b3"
      },
      "source": [
        "%pip install -e ."
      ],
      "execution_count": null,
      "outputs": [
        {
          "output_type": "stream",
          "name": "stdout",
          "text": [
            "Obtaining file:///content/KernelODEsAdversarial\n",
            "Requirement already satisfied: torch in /usr/local/lib/python3.7/dist-packages (from KernelODEsAdversarial==1.0) (1.9.0+cu102)\n",
            "Requirement already satisfied: torchdiffeq in /usr/local/lib/python3.7/dist-packages (from KernelODEsAdversarial==1.0) (0.2.2)\n",
            "Requirement already satisfied: pyro-ppl in /usr/local/lib/python3.7/dist-packages (from KernelODEsAdversarial==1.0) (1.7.0)\n",
            "Requirement already satisfied: numpy>=1.7 in /usr/local/lib/python3.7/dist-packages (from pyro-ppl->KernelODEsAdversarial==1.0) (1.19.5)\n",
            "Requirement already satisfied: opt-einsum>=2.3.2 in /usr/local/lib/python3.7/dist-packages (from pyro-ppl->KernelODEsAdversarial==1.0) (3.3.0)\n",
            "Requirement already satisfied: tqdm>=4.36 in /usr/local/lib/python3.7/dist-packages (from pyro-ppl->KernelODEsAdversarial==1.0) (4.62.2)\n",
            "Requirement already satisfied: pyro-api>=0.1.1 in /usr/local/lib/python3.7/dist-packages (from pyro-ppl->KernelODEsAdversarial==1.0) (0.1.2)\n",
            "Requirement already satisfied: typing-extensions in /usr/local/lib/python3.7/dist-packages (from torch->KernelODEsAdversarial==1.0) (3.7.4.3)\n",
            "Requirement already satisfied: scipy>=1.4.0 in /usr/local/lib/python3.7/dist-packages (from torchdiffeq->KernelODEsAdversarial==1.0) (1.4.1)\n",
            "Installing collected packages: KernelODEsAdversarial\n",
            "  Running setup.py develop for KernelODEsAdversarial\n",
            "Successfully installed KernelODEsAdversarial-1.0\n"
          ]
        }
      ]
    },
    {
      "cell_type": "code",
      "metadata": {
        "id": "mb7w0WR7-H5Y"
      },
      "source": [
        "import os\n",
        "import matplotlib.pyplot as plt\n",
        "\n",
        "import torch\n",
        "import torchvision\n",
        "\n",
        "from kernelode.kernel_ode import ODEKernel, ode_kernel\n",
        "from kernelode.utils import predict_class_vector, predict_class\n",
        "\n",
        "import torch.nn.functional as F"
      ],
      "execution_count": null,
      "outputs": []
    },
    {
      "cell_type": "code",
      "metadata": {
        "id": "gqPmLkl2-IYi"
      },
      "source": [
        "batch_size_train = 512\n",
        "batch_size_test = 256\n",
        "num_classes = 10\n",
        "\n",
        "random_seed = 1\n",
        "torch.backends.cudnn.enabled = False\n",
        "torch.manual_seed(random_seed)\n",
        "\n",
        "train_loader = torch.utils.data.DataLoader(\n",
        "  torchvision.datasets.MNIST('files/', train=True, download=True,\n",
        "                             transform=torchvision.transforms.Compose([\n",
        "                               torchvision.transforms.ToTensor(),\n",
        "                             ])),\n",
        "  batch_size=batch_size_train, shuffle=True)\n",
        "\n",
        "test_loader = torch.utils.data.DataLoader(\n",
        "  torchvision.datasets.MNIST('files/', train=False, download=True,\n",
        "                             transform=torchvision.transforms.Compose([\n",
        "                               torchvision.transforms.ToTensor(),\n",
        "                             ])),\n",
        "  batch_size=batch_size_test, shuffle=True)\n",
        "\n",
        "\n",
        "train_examples = enumerate(train_loader)\n",
        "batch_idx, (train_example_data, train_example_targets) = next(train_examples)\n",
        "\n",
        "test_examples = enumerate(test_loader)\n",
        "batch_idx, (test_example_data, test_example_targets) = next(test_examples)"
      ],
      "execution_count": null,
      "outputs": []
    },
    {
      "cell_type": "markdown",
      "metadata": {
        "id": "f7uKwfehroUh"
      },
      "source": [
        "### Conv Kernel"
      ]
    },
    {
      "cell_type": "code",
      "metadata": {
        "colab": {
          "base_uri": "https://localhost:8080/"
        },
        "id": "WclKVW9BkL6L",
        "outputId": "3e4b1212-f71e-4d95-8e9d-55c87021a7d6"
      },
      "source": [
        "%cd cnn-gp/"
      ],
      "execution_count": null,
      "outputs": [
        {
          "output_type": "stream",
          "name": "stdout",
          "text": [
            "/content/KernelODEsAdversarial/cnn-gp\n"
          ]
        }
      ]
    },
    {
      "cell_type": "code",
      "metadata": {
        "id": "TuToBeZdB47L"
      },
      "source": [
        "import os\n",
        "import matplotlib.pyplot as plt\n",
        "\n",
        "import torch\n",
        "from torch.distributions import constraints\n",
        "from torch.nn import Parameter\n",
        "\n",
        "import pyro\n",
        "import pyro.contrib.gp as gp\n",
        "import pyro.distributions as dist\n",
        "from pyro.nn.module import PyroParam\n",
        "\n",
        "\n",
        "from torchdiffeq import odeint\n",
        "from math import pi\n",
        "\n",
        "\n",
        "from cnn_gp import Sequential, Conv2d, ReLU\n",
        "\n",
        "π = torch.tensor(pi)\n",
        "\n",
        "model = Sequential(\n",
        "    Conv2d(kernel_size=4, stride=2),\n",
        "    ReLU(),\n",
        "    Conv2d(kernel_size=14, padding=0),  # equivalent to a dense layer\n",
        ")\n",
        "\n",
        "def ode_conv_kernel(X,Y, σ_b, σ_w, n=500.0,dim=1,method='euler', atol=0.01, rtol=1e-4, same=False):\n",
        "    #  Model: dk /dt = f(t, k )  where k is the kernel matrix   \n",
        "    \n",
        "    X = X.reshape(-1,1,28,28)\n",
        "    Y = Y.reshape(-1,1,28,28)\n",
        "\n",
        "    ts = torch.tensor([0, 1.0])\n",
        "    dt = 1.0 / n # Uniform scaling\n",
        "\n",
        "    y0 = σ_b**2 + 0.5 * σ_w**2 * model(X, Y, same=same)\n",
        "\n",
        "    def f(γ):\n",
        "        ϵ = 1e-6\n",
        "        γ = ϵ + (1 - 2 * ϵ) * torch.clip(γ,-1,1)\n",
        "        \n",
        "        return (1.0 / π) * (torch.sqrt(1.0 - γ**2) - γ * torch.arccos(γ))\n",
        "\n",
        "    def k_xx_t_x(t,X_):\n",
        "        k0 = σ_b**2 + 0.5 * σ_w**2 * model(X_, diag=True)\n",
        "        result = torch.exp(0.5 * σ_w**2 * t) * k0 + 2 * (σ_b**2 / σ_w**2) * (torch.exp(0.5 * σ_w**2 * t) - 1.0)\n",
        "        return result\n",
        "   \n",
        "    k_xx_t_ = lambda t: k_xx_t_x(t,X)\n",
        "    k_yy_t_ = lambda t: k_xx_t_x(t,Y)\n",
        "    \n",
        "    def c_t(t,k):\n",
        "        kxxt = k_xx_t_(t).reshape(-1,1)\n",
        "        kyyt = k_yy_t_(t).reshape(-1,1)\n",
        "\n",
        "        result = k / torch.sqrt(kxxt.mm(kyyt.T))\n",
        "        return result\n",
        "\n",
        "    def drift(t,k):\n",
        "        ct = c_t(t,k)\n",
        "\n",
        "        result = σ_b**2 + 0.5 * σ_w**2 * (1.0 + (f(ct) / ct)  ) * k \n",
        "\n",
        "        return result\n",
        "    \n",
        "    \n",
        "    if method=='euler':\n",
        "        out = odeint(drift, y0, ts, method=\"euler\", options={\"step_size\":dt})\n",
        "    elif method=='dopri5':\n",
        "        out = odeint(drift, y0, ts, method='dopri5', atol=atol, rtol=rtol)\n",
        "    else:\n",
        "        out = odeint(drift, y0, ts, method=method)\n",
        "    return out"
      ],
      "execution_count": null,
      "outputs": []
    },
    {
      "cell_type": "code",
      "metadata": {
        "colab": {
          "base_uri": "https://localhost:8080/"
        },
        "id": "L2yjKPQwBOMz",
        "outputId": "3ea17917-28a6-415b-f671-af4806ab924b"
      },
      "source": [
        "# model = Sequential(\n",
        "#     Conv2d(kernel_size=4, stride=2),\n",
        "#     ReLU(),\n",
        "#     Conv2d(kernel_size=14, padding=0),  # equivalent to a dense layer\n",
        "# )\n",
        "\n",
        "test_examples = enumerate(test_loader)\n",
        "batch_idx, (test_example_data, test_example_targets) = next(test_examples)\n",
        "test_example_data.requires_grad = True\n",
        "\n",
        "heh = model(train_example_data.reshape(-1, 1, 28, 28), test_example_data.reshape(-1, 1, 28, 28), same=False)\n",
        "\n",
        "lol = heh.sum()\n",
        "lol.backward()\n",
        "\n",
        "torch.where(test_example_data.grad)"
      ],
      "execution_count": null,
      "outputs": [
        {
          "output_type": "execute_result",
          "data": {
            "text/plain": [
              "(tensor([  0,   0,   0,  ..., 255, 255, 255]),\n",
              " tensor([0, 0, 0,  ..., 0, 0, 0]),\n",
              " tensor([ 0,  0,  0,  ..., 27, 27, 27]),\n",
              " tensor([ 0,  1,  2,  ..., 25, 26, 27]))"
            ]
          },
          "metadata": {},
          "execution_count": 36
        }
      ]
    },
    {
      "cell_type": "markdown",
      "metadata": {
        "id": "AcpPt5v8ruJf"
      },
      "source": [
        "### Fitting\n"
      ]
    },
    {
      "cell_type": "code",
      "metadata": {
        "id": "vwxfNBvQ-J-t"
      },
      "source": [
        "Y_hot = F.one_hot(train_example_targets.to(torch.int64), num_classes=num_classes)"
      ],
      "execution_count": null,
      "outputs": []
    },
    {
      "cell_type": "code",
      "metadata": {
        "id": "t7Bez2fu-MI_"
      },
      "source": [
        "tol = 1e-3\n",
        "# kernel = lambda x, y, same: ode_kernel(x, y, 1, 1, n=100, dim=28*28, method='euler', T=30)\n",
        "kernel = lambda x, y, same: ode_kernel(x, y, 1, 1, 1, 28*28, method='dopri5', atol=tol, rtol=tol, T=30)\n",
        "# kernel = lambda x, y, same: ode_conv_kernel(x, y, 1, 1, 1, 28*28, method='dopri5', atol=tol, rtol=tol, same=same)\n",
        "# kernel = lambda x, y, same: ode_conv_kernel(x, y, 1, 1, n=1, dim=28*28, method='euler', same=same)"
      ],
      "execution_count": 216,
      "outputs": []
    },
    {
      "cell_type": "code",
      "metadata": {
        "id": "so00gdrs-NR7"
      },
      "source": [
        "Kxx = kernel(train_example_data, train_example_data, True)[-1,...].T\n",
        "Y_hot_shifted = Y_hot * 2.0 - 1\n",
        "alphas = torch.linalg.solve(Kxx, Y_hot_shifted)"
      ],
      "execution_count": 217,
      "outputs": []
    },
    {
      "cell_type": "markdown",
      "metadata": {
        "id": "MWdrKa2pW2DA"
      },
      "source": [
        "### Prediction"
      ]
    },
    {
      "cell_type": "code",
      "metadata": {
        "id": "6RXmSdtg-W33",
        "colab": {
          "base_uri": "https://localhost:8080/"
        },
        "outputId": "55a5cd05-b8f9-40fb-a38b-2e33901cec66"
      },
      "source": [
        "from sklearn.metrics import accuracy_score\n",
        "\n",
        "Kxvx = kernel(train_example_data, test_example_data, False)[-1,...].T\n",
        "scores = Kxvx.matmul(alphas)\n",
        "preds = scores.argmax(axis=1)\n",
        "\n",
        "print(accuracy_score(test_example_targets, preds))\n",
        "\n",
        "# import numpy as np\n",
        "# for i in range(20):\n",
        "#     # tol, T = 10 ** (-5 + np.random.rand(1) * 4), 1\n",
        "#     tol, T = 1e-3, 10 ** (-2 + np.random.rand(1) * 4)[0]\n",
        "#     Kxvx = ode_kernel(train_example_data, test_example_data, 1, 1, 1, dim=28*28, method='dopri5', atol=tol, rtol=tol, T=T)[-1,...].T\n",
        "#     scores = Kxvx.matmul(alphas)\n",
        "#     preds = scores.argmax(axis=1)\n",
        "#     print(accuracy_score(test_example_targets, preds))"
      ],
      "execution_count": 218,
      "outputs": [
        {
          "output_type": "stream",
          "name": "stdout",
          "text": [
            "0.90625\n"
          ]
        }
      ]
    },
    {
      "cell_type": "markdown",
      "metadata": {
        "id": "-dqA5jnzJMi2"
      },
      "source": [
        "### Adversarial examples"
      ]
    },
    {
      "cell_type": "code",
      "metadata": {
        "id": "Ekqo_sPH-aau"
      },
      "source": [
        "test_examples = enumerate(test_loader)\n",
        "batch_idx, (test_example_data, test_example_targets) = next(test_examples)\n",
        "test_example_data.requires_grad = True\n",
        "\n",
        "# Kxvx = ode_kernel(train_example_data, test_example_data, 1, 1, n=100, dim=28*28, method='euler')[-1, ...].T \n",
        "Kxvx = kernel(train_example_data, test_example_data, False)[-1,...].T"
      ],
      "execution_count": 219,
      "outputs": []
    },
    {
      "cell_type": "code",
      "metadata": {
        "id": "4dtYIuyc-cBD"
      },
      "source": [
        "outputs = Kxvx.matmul(alphas)\n",
        "cost = F.nll_loss(outputs, test_example_targets)\n",
        "cost.backward()"
      ],
      "execution_count": 220,
      "outputs": []
    },
    {
      "cell_type": "code",
      "metadata": {
        "id": "NUagKWlZ701q",
        "colab": {
          "base_uri": "https://localhost:8080/"
        },
        "outputId": "8fad129d-b710-4dc4-dc08-1cb770bf5bec"
      },
      "source": [
        "torch.any(torch.isnan(test_example_data.grad))"
      ],
      "execution_count": 221,
      "outputs": [
        {
          "output_type": "execute_result",
          "data": {
            "text/plain": [
              "tensor(False)"
            ]
          },
          "metadata": {},
          "execution_count": 221
        }
      ]
    },
    {
      "cell_type": "code",
      "metadata": {
        "colab": {
          "base_uri": "https://localhost:8080/"
        },
        "id": "VLKakmKJ-eHE",
        "outputId": "03010b44-dafd-4538-95a8-6058a3aa8ce7"
      },
      "source": [
        "eps = 0.1\n",
        "test_attack_images = test_example_data + eps*test_example_data.grad.sign()\n",
        "test_attack_images = torch.clamp(test_attack_images, 0, 1)\n",
        "\n",
        "Kxavx = kernel(train_example_data, test_attack_images, False)[-1,...].T\n",
        "scores = Kxavx.matmul(alphas)\n",
        "preds = scores.argmax(axis=1)\n",
        "accuracy_score(test_example_targets, preds)\n",
        "\n",
        "# import numpy as np\n",
        "# for i in range(20):\n",
        "#     tol = 10 ** (-5 + np.random.rand(1) * 3)\n",
        "#     # Kxvx = ode_conv_kernel(train_example_data, test_attack_images, 1, 1, 1, dim=28*28, method='dopri5', atol=tol, rtol=tol)[-1,...].T\n",
        "#     Kxvx = ode_kernel(train_example_data, test_attack_images, 1, 1, 1, dim=28*28, method='dopri5', atol=tol, rtol=tol, T=30)\n",
        "#     scores = Kxavx.matmul(alphas)\n",
        "#     preds = scores.argmax(axis=1)\n",
        "#     print(accuracy_score(test_example_targets, preds))"
      ],
      "execution_count": 222,
      "outputs": [
        {
          "output_type": "execute_result",
          "data": {
            "text/plain": [
              "0.58203125"
            ]
          },
          "metadata": {},
          "execution_count": 222
        }
      ]
    },
    {
      "cell_type": "markdown",
      "metadata": {
        "id": "pFqvxSzqXAoY"
      },
      "source": [
        "### RKHS norm and distance"
      ]
    },
    {
      "cell_type": "code",
      "metadata": {
        "id": "fySbQCy0X-Ep",
        "colab": {
          "base_uri": "https://localhost:8080/"
        },
        "outputId": "362c6d5a-5bfd-424f-cb38-2111ccff4e0c"
      },
      "source": [
        "for i in range(10):\n",
        "    f_norm = alphas[:, i].matmul(Kxx).matmul(alphas[:, i])\n",
        "    print(f_norm)"
      ],
      "execution_count": 172,
      "outputs": [
        {
          "output_type": "stream",
          "name": "stdout",
          "text": [
            "tensor(4.5345e-10)\n",
            "tensor(5.4608e-10)\n",
            "tensor(8.0635e-10)\n",
            "tensor(9.6988e-10)\n",
            "tensor(9.2378e-10)\n",
            "tensor(9.4463e-10)\n",
            "tensor(6.5924e-10)\n",
            "tensor(7.9181e-10)\n",
            "tensor(9.7525e-10)\n",
            "tensor(8.6814e-10)\n"
          ]
        }
      ]
    },
    {
      "cell_type": "code",
      "metadata": {
        "id": "rfO1dU9dXCdE"
      },
      "source": [
        "epss = np.linspace(0, 1, 100)\n",
        "rkhss = []\n",
        "for eps in epss:\n",
        "  test_attack_images = test_example_data + eps*test_example_data.grad.sign()\n",
        "  test_attack_images = torch.clamp(test_attack_images, 0, 1)\n",
        "\n",
        "  Ktxatx_xx = kernel(test_example_data[:1], test_example_data[:1], True)[-1,...].T\n",
        "  Ktxatx_xy = kernel(test_example_data[:1], test_attack_images[:1], False)[-1,...].T\n",
        "  Ktxatx_yy = kernel(test_attack_images[:1], test_attack_images[:1], True)[-1,...].T\n",
        "  rkhs_norm = Ktxatx_xx - 2 * Ktxatx_xy + Ktxatx_yy\n",
        "  rkhss.append(rkhs_norm.detach())"
      ],
      "execution_count": 185,
      "outputs": []
    },
    {
      "cell_type": "code",
      "metadata": {
        "colab": {
          "base_uri": "https://localhost:8080/",
          "height": 308
        },
        "id": "cBZCM5ySJA4-",
        "outputId": "30602983-c6de-43df-e9ef-ecdfb0c2c96d"
      },
      "source": [
        "plt.scatter(epss, rkhss)\n",
        "plt.xlabel(\"Epsilon\")\n",
        "plt.ylabel(\"Kernel distance\")"
      ],
      "execution_count": 199,
      "outputs": [
        {
          "output_type": "execute_result",
          "data": {
            "text/plain": [
              "Text(0, 0.5, 'Kernel distance')"
            ]
          },
          "metadata": {},
          "execution_count": 199
        },
        {
          "output_type": "display_data",
          "data": {
            "image/png": "[encoded data removed]",
            "text/plain": [
              "<Figure size 432x288 with 1 Axes>"
            ]
          },
          "metadata": {
            "needs_background": "light"
          }
        }
      ]
    },
    {
      "cell_type": "code",
      "metadata": {
        "colab": {
          "base_uri": "https://localhost:8080/",
          "height": 1000
        },
        "id": "u5HyjUSALyg9",
        "outputId": "2f25bcc6-25ab-435a-9dcf-8793f4963bbc"
      },
      "source": [
        "epss = np.linspace(0, 0.1, 100)\n",
        "accuracies = []\n",
        "for eps in epss:\n",
        "  test_attack_images = test_example_data + eps*test_example_data.grad.sign()\n",
        "  test_attack_images = torch.clamp(test_attack_images, 0, 1)\n",
        "\n",
        "  Kxavx = kernel(train_example_data, test_attack_images, False)[-1,...].T\n",
        "  scores = Kxavx.matmul(alphas)\n",
        "  print(scores)\n",
        "  preds = scores.argmax(axis=1)\n",
        "  accuracies.append(accuracy_score(test_example_targets, preds))"
      ],
      "execution_count": 215,
      "outputs": [
        {
          "output_type": "stream",
          "name": "stdout",
          "text": [
            "tensor([[-0.9410, -0.7954, -1.0163,  ..., -1.0959, -1.0539, -1.0276],\n",
            "        [-1.0303, -0.8795, -0.9884,  ..., -0.9402, -0.4799, -0.6954],\n",
            "        [-0.8337, -1.0554, -0.7347,  ..., -0.7698, -1.0959, -0.9847],\n",
            "        ...,\n",
            "        [-0.8827, -0.9564, -1.0676,  ..., -1.1812, -0.6995, -1.1960],\n",
            "        [-0.8985,  0.3026, -0.7300,  ..., -0.7949, -0.9323, -0.8184],\n",
            "        [-1.0696, -1.0478, -1.0445,  ..., -0.4549, -0.6168, -0.6544]],\n",
            "       grad_fn=<MmBackward>)\n",
            "tensor([[-0.9404, -0.7949, -1.0153,  ..., -1.0952, -1.0526, -1.0274],\n",
            "        [-1.0304, -0.8800, -0.9874,  ..., -0.9399, -0.4833, -0.6951],\n",
            "        [-0.8335, -1.0552, -0.7339,  ..., -0.7692, -1.0955, -0.9843],\n",
            "        ...,\n",
            "        [-0.8820, -0.9564, -1.0665,  ..., -1.1813, -0.6984, -1.1954],\n",
            "        [-0.8977,  0.2987, -0.7277,  ..., -0.7935, -0.9304, -0.8170],\n",
            "        [-1.0693, -1.0477, -1.0432,  ..., -0.4539, -0.6186, -0.6538]],\n",
            "       grad_fn=<MmBackward>)\n",
            "tensor([[-0.9396, -0.7945, -1.0144,  ..., -1.0947, -1.0514, -1.0271],\n",
            "        [-1.0306, -0.8803, -0.9868,  ..., -0.9393, -0.4862, -0.6942],\n",
            "        [-0.8328, -1.0551, -0.7335,  ..., -0.7685, -1.0947, -0.9843],\n",
            "        ...,\n",
            "        [-0.8817, -0.9562, -1.0656,  ..., -1.1811, -0.6972, -1.1954],\n",
            "        [-0.8967,  0.2947, -0.7253,  ..., -0.7923, -0.9288, -0.8155],\n",
            "        [-1.0689, -1.0478, -1.0421,  ..., -0.4530, -0.6199, -0.6529]],\n",
            "       grad_fn=<MmBackward>)\n",
            "tensor([[-0.9387, -0.7943, -1.0134,  ..., -1.0942, -1.0507, -1.0265],\n",
            "        [-1.0303, -0.8810, -0.9859,  ..., -0.9385, -0.4893, -0.6940],\n",
            "        [-0.8322, -1.0554, -0.7324,  ..., -0.7680, -1.0948, -0.9839],\n",
            "        ...,\n",
            "        [-0.8811, -0.9561, -1.0646,  ..., -1.1804, -0.6961, -1.1951],\n",
            "        [-0.8958,  0.2907, -0.7231,  ..., -0.7912, -0.9270, -0.8139],\n",
            "        [-1.0685, -1.0480, -1.0409,  ..., -0.4518, -0.6215, -0.6519]],\n",
            "       grad_fn=<MmBackward>)\n",
            "tensor([[-0.9378, -0.7941, -1.0126,  ..., -1.0939, -1.0489, -1.0260],\n",
            "        [-1.0304, -0.8814, -0.9848,  ..., -0.9380, -0.4927, -0.6937],\n",
            "        [-0.8320, -1.0553, -0.7318,  ..., -0.7676, -1.0940, -0.9836],\n",
            "        ...,\n",
            "        [-0.8806, -0.9559, -1.0641,  ..., -1.1805, -0.6950, -1.1949],\n",
            "        [-0.8949,  0.2868, -0.7208,  ..., -0.7898, -0.9253, -0.8123],\n",
            "        [-1.0680, -1.0479, -1.0398,  ..., -0.4509, -0.6232, -0.6514]],\n",
            "       grad_fn=<MmBackward>)\n",
            "tensor([[-0.9370, -0.7935, -1.0115,  ..., -1.0932, -1.0475, -1.0255],\n",
            "        [-1.0302, -0.8820, -0.9841,  ..., -0.9373, -0.4958, -0.6932],\n",
            "        [-0.8311, -1.0551, -0.7308,  ..., -0.7668, -1.0934, -0.9828],\n",
            "        ...,\n",
            "        [-0.8800, -0.9557, -1.0627,  ..., -1.1800, -0.6938, -1.1942],\n",
            "        [-0.8941,  0.2829, -0.7183,  ..., -0.7885, -0.9239, -0.8108],\n",
            "        [-1.0674, -1.0480, -1.0388,  ..., -0.4502, -0.6247, -0.6504]],\n",
            "       grad_fn=<MmBackward>)\n",
            "tensor([[-0.9362, -0.7929, -1.0105,  ..., -1.0926, -1.0462, -1.0246],\n",
            "        [-1.0300, -0.8823, -0.9829,  ..., -0.9366, -0.4985, -0.6925],\n",
            "        [-0.8305, -1.0545, -0.7299,  ..., -0.7660, -1.0929, -0.9826],\n",
            "        ...,\n",
            "        [-0.8788, -0.9553, -1.0622,  ..., -1.1792, -0.6924, -1.1936],\n",
            "        [-0.8933,  0.2787, -0.7161,  ..., -0.7872, -0.9220, -0.8091],\n",
            "        [-1.0672, -1.0486, -1.0373,  ..., -0.4491, -0.6264, -0.6501]],\n",
            "       grad_fn=<MmBackward>)\n",
            "tensor([[-0.9353, -0.7924, -1.0094,  ..., -1.0914, -1.0443, -1.0242],\n",
            "        [-1.0300, -0.8825, -0.9819,  ..., -0.9362, -0.5017, -0.6922],\n",
            "        [-0.8299, -1.0544, -0.7287,  ..., -0.7652, -1.0920, -0.9820],\n",
            "        ...,\n",
            "        [-0.8779, -0.9552, -1.0608,  ..., -1.1788, -0.6911, -1.1932],\n",
            "        [-0.8924,  0.2747, -0.7137,  ..., -0.7859, -0.9204, -0.8077],\n",
            "        [-1.0665, -1.0484, -1.0364,  ..., -0.4483, -0.6277, -0.6490]],\n",
            "       grad_fn=<MmBackward>)\n",
            "tensor([[-0.9345, -0.7919, -1.0087,  ..., -1.0908, -1.0427, -1.0236],\n",
            "        [-1.0300, -0.8829, -0.9808,  ..., -0.9353, -0.5045, -0.6918],\n",
            "        [-0.8289, -1.0540, -0.7280,  ..., -0.7642, -1.0914, -0.9817],\n",
            "        ...,\n",
            "        [-0.8772, -0.9547, -1.0597,  ..., -1.1783, -0.6896, -1.1924],\n",
            "        [-0.8917,  0.2707, -0.7114,  ..., -0.7846, -0.9186, -0.8060],\n",
            "        [-1.0660, -1.0485, -1.0353,  ..., -0.4472, -0.6294, -0.6485]],\n",
            "       grad_fn=<MmBackward>)\n",
            "tensor([[-0.9337, -0.7912, -1.0077,  ..., -1.0901, -1.0413, -1.0230],\n",
            "        [-1.0297, -0.8831, -0.9800,  ..., -0.9344, -0.5073, -0.6912],\n",
            "        [-0.8283, -1.0537, -0.7274,  ..., -0.7635, -1.0907, -0.9813],\n",
            "        ...,\n",
            "        [-0.8762, -0.9546, -1.0588,  ..., -1.1778, -0.6885, -1.1920],\n",
            "        [-0.8906,  0.2668, -0.7091,  ..., -0.7833, -0.9171, -0.8047],\n",
            "        [-1.0656, -1.0489, -1.0343,  ..., -0.4461, -0.6307, -0.6479]],\n",
            "       grad_fn=<MmBackward>)\n",
            "tensor([[-0.9327, -0.7907, -1.0065,  ..., -1.0895, -1.0394, -1.0223],\n",
            "        [-1.0294, -0.8833, -0.9790,  ..., -0.9335, -0.5101, -0.6906],\n",
            "        [-0.8276, -1.0535, -0.7262,  ..., -0.7631, -1.0897, -0.9805],\n",
            "        ...,\n",
            "        [-0.8752, -0.9544, -1.0578,  ..., -1.1772, -0.6873, -1.1915],\n",
            "        [-0.8898,  0.2628, -0.7067,  ..., -0.7819, -0.9153, -0.8029],\n",
            "        [-1.0649, -1.0489, -1.0327,  ..., -0.4454, -0.6325, -0.6468]],\n",
            "       grad_fn=<MmBackward>)\n",
            "tensor([[-0.9318, -0.7902, -1.0053,  ..., -1.0883, -1.0380, -1.0218],\n",
            "        [-1.0289, -0.8836, -0.9778,  ..., -0.9330, -0.5134, -0.6902],\n",
            "        [-0.8270, -1.0531, -0.7254,  ..., -0.7623, -1.0892, -0.9801],\n",
            "        ...,\n",
            "        [-0.8745, -0.9541, -1.0568,  ..., -1.1765, -0.6859, -1.1908],\n",
            "        [-0.8889,  0.2587, -0.7043,  ..., -0.7806, -0.9136, -0.8015],\n",
            "        [-1.0647, -1.0491, -1.0318,  ..., -0.4444, -0.6344, -0.6464]],\n",
            "       grad_fn=<MmBackward>)\n",
            "tensor([[-0.9311, -0.7899, -1.0044,  ..., -1.0878, -1.0366, -1.0210],\n",
            "        [-1.0289, -0.8836, -0.9769,  ..., -0.9324, -0.5159, -0.6896],\n",
            "        [-0.8263, -1.0530, -0.7245,  ..., -0.7615, -1.0885, -0.9799],\n",
            "        ...,\n",
            "        [-0.8736, -0.9537, -1.0558,  ..., -1.1761, -0.6847, -1.1904],\n",
            "        [-0.8879,  0.2545, -0.7019,  ..., -0.7793, -0.9117, -0.8000],\n",
            "        [-1.0641, -1.0491, -1.0307,  ..., -0.4436, -0.6357, -0.6457]],\n",
            "       grad_fn=<MmBackward>)\n",
            "tensor([[-0.9303, -0.7894, -1.0034,  ..., -1.0870, -1.0349, -1.0204],\n",
            "        [-1.0286, -0.8840, -0.9757,  ..., -0.9314, -0.5189, -0.6888],\n",
            "        [-0.8254, -1.0527, -0.7236,  ..., -0.7607, -1.0877, -0.9793],\n",
            "        ...,\n",
            "        [-0.8730, -0.9533, -1.0546,  ..., -1.1756, -0.6835, -1.1895],\n",
            "        [-0.8871,  0.2506, -0.6996,  ..., -0.7778, -0.9102, -0.7983],\n",
            "        [-1.0638, -1.0492, -1.0296,  ..., -0.4424, -0.6373, -0.6450]],\n",
            "       grad_fn=<MmBackward>)\n",
            "tensor([[-0.9295, -0.7891, -1.0024,  ..., -1.0864, -1.0331, -1.0197],\n",
            "        [-1.0282, -0.8841, -0.9745,  ..., -0.9306, -0.5219, -0.6885],\n",
            "        [-0.8248, -1.0523, -0.7226,  ..., -0.7599, -1.0872, -0.9789],\n",
            "        ...,\n",
            "        [-0.8719, -0.9533, -1.0536,  ..., -1.1752, -0.6819, -1.1892],\n",
            "        [-0.8863,  0.2463, -0.6972,  ..., -0.7766, -0.9083, -0.7968],\n",
            "        [-1.0634, -1.0494, -1.0285,  ..., -0.4417, -0.6389, -0.6444]],\n",
            "       grad_fn=<MmBackward>)\n",
            "tensor([[-0.9284, -0.7882, -1.0013,  ..., -1.0857, -1.0320, -1.0195],\n",
            "        [-1.0280, -0.8841, -0.9734,  ..., -0.9297, -0.5247, -0.6878],\n",
            "        [-0.8240, -1.0520, -0.7216,  ..., -0.7592, -1.0861, -0.9781],\n",
            "        ...,\n",
            "        [-0.8712, -0.9528, -1.0527,  ..., -1.1744, -0.6808, -1.1886],\n",
            "        [-0.8853,  0.2422, -0.6949,  ..., -0.7751, -0.9065, -0.7953],\n",
            "        [-1.0628, -1.0495, -1.0274,  ..., -0.4408, -0.6404, -0.6433]],\n",
            "       grad_fn=<MmBackward>)\n",
            "tensor([[-0.9276, -0.7879, -1.0005,  ..., -1.0850, -1.0303, -1.0185],\n",
            "        [-1.0277, -0.8844, -0.9728,  ..., -0.9291, -0.5275, -0.6876],\n",
            "        [-0.8232, -1.0517, -0.7206,  ..., -0.7583, -1.0856, -0.9778],\n",
            "        ...,\n",
            "        [-0.8701, -0.9528, -1.0515,  ..., -1.1740, -0.6793, -1.1881],\n",
            "        [-0.8844,  0.2381, -0.6927,  ..., -0.7738, -0.9048, -0.7935],\n",
            "        [-1.0624, -1.0498, -1.0262,  ..., -0.4399, -0.6424, -0.6427]],\n",
            "       grad_fn=<MmBackward>)\n",
            "tensor([[-0.9269, -0.7874, -0.9993,  ..., -1.0842, -1.0285, -1.0182],\n",
            "        [-1.0275, -0.8847, -0.9716,  ..., -0.9283, -0.5303, -0.6868],\n",
            "        [-0.8227, -1.0517, -0.7196,  ..., -0.7575, -1.0849, -0.9772],\n",
            "        ...,\n",
            "        [-0.8694, -0.9524, -1.0503,  ..., -1.1734, -0.6783, -1.1876],\n",
            "        [-0.8837,  0.2337, -0.6900,  ..., -0.7725, -0.9031, -0.7922],\n",
            "        [-1.0621, -1.0498, -1.0251,  ..., -0.4392, -0.6440, -0.6420]],\n",
            "       grad_fn=<MmBackward>)\n",
            "tensor([[-0.9260, -0.7871, -0.9984,  ..., -1.0836, -1.0272, -1.0175],\n",
            "        [-1.0273, -0.8850, -0.9704,  ..., -0.9275, -0.5332, -0.6866],\n",
            "        [-0.8218, -1.0513, -0.7185,  ..., -0.7570, -1.0840, -0.9772],\n",
            "        ...,\n",
            "        [-0.8687, -0.9521, -1.0494,  ..., -1.1728, -0.6771, -1.1867],\n",
            "        [-0.8828,  0.2296, -0.6875,  ..., -0.7710, -0.9016, -0.7907],\n",
            "        [-1.0616, -1.0499, -1.0241,  ..., -0.4380, -0.6455, -0.6415]],\n",
            "       grad_fn=<MmBackward>)\n"
          ]
        },
        {
          "output_type": "error",
          "ename": "KeyboardInterrupt",
          "evalue": "ignored",
          "traceback": [
            "\u001b[0;31m---------------------------------------------------------------------------\u001b[0m",
            "\u001b[0;31mKeyboardInterrupt\u001b[0m                         Traceback (most recent call last)",
            "\u001b[0;32m<ipython-input-215-d4e49eb97a41>\u001b[0m in \u001b[0;36m<module>\u001b[0;34m()\u001b[0m\n\u001b[1;32m      5\u001b[0m   \u001b[0mtest_attack_images\u001b[0m \u001b[0;34m=\u001b[0m \u001b[0mtorch\u001b[0m\u001b[0;34m.\u001b[0m\u001b[0mclamp\u001b[0m\u001b[0;34m(\u001b[0m\u001b[0mtest_attack_images\u001b[0m\u001b[0;34m,\u001b[0m \u001b[0;36m0\u001b[0m\u001b[0;34m,\u001b[0m \u001b[0;36m1\u001b[0m\u001b[0;34m)\u001b[0m\u001b[0;34m\u001b[0m\u001b[0;34m\u001b[0m\u001b[0m\n\u001b[1;32m      6\u001b[0m \u001b[0;34m\u001b[0m\u001b[0m\n\u001b[0;32m----> 7\u001b[0;31m   \u001b[0mKxavx\u001b[0m \u001b[0;34m=\u001b[0m \u001b[0mkernel\u001b[0m\u001b[0;34m(\u001b[0m\u001b[0mtrain_example_data\u001b[0m\u001b[0;34m,\u001b[0m \u001b[0mtest_attack_images\u001b[0m\u001b[0;34m,\u001b[0m \u001b[0;32mFalse\u001b[0m\u001b[0;34m)\u001b[0m\u001b[0;34m[\u001b[0m\u001b[0;34m-\u001b[0m\u001b[0;36m1\u001b[0m\u001b[0;34m,\u001b[0m\u001b[0;34m...\u001b[0m\u001b[0;34m]\u001b[0m\u001b[0;34m.\u001b[0m\u001b[0mT\u001b[0m\u001b[0;34m\u001b[0m\u001b[0;34m\u001b[0m\u001b[0m\n\u001b[0m\u001b[1;32m      8\u001b[0m   \u001b[0mscores\u001b[0m \u001b[0;34m=\u001b[0m \u001b[0mKxavx\u001b[0m\u001b[0;34m.\u001b[0m\u001b[0mmatmul\u001b[0m\u001b[0;34m(\u001b[0m\u001b[0malphas\u001b[0m\u001b[0;34m)\u001b[0m\u001b[0;34m\u001b[0m\u001b[0;34m\u001b[0m\u001b[0m\n\u001b[1;32m      9\u001b[0m   \u001b[0mprint\u001b[0m\u001b[0;34m(\u001b[0m\u001b[0mscores\u001b[0m\u001b[0;34m)\u001b[0m\u001b[0;34m\u001b[0m\u001b[0;34m\u001b[0m\u001b[0m\n",
            "\u001b[0;32m<ipython-input-167-254898ff2181>\u001b[0m in \u001b[0;36m<lambda>\u001b[0;34m(x, y, same)\u001b[0m\n\u001b[1;32m      1\u001b[0m \u001b[0mtol\u001b[0m \u001b[0;34m=\u001b[0m \u001b[0;36m1e-3\u001b[0m\u001b[0;34m\u001b[0m\u001b[0;34m\u001b[0m\u001b[0m\n\u001b[1;32m      2\u001b[0m \u001b[0;31m# kernel = lambda x, y, same: ode_kernel(x, y, 1, 1, n=100, dim=28*28, method='euler', T=30)\u001b[0m\u001b[0;34m\u001b[0m\u001b[0;34m\u001b[0m\u001b[0;34m\u001b[0m\u001b[0m\n\u001b[0;32m----> 3\u001b[0;31m \u001b[0mkernel\u001b[0m \u001b[0;34m=\u001b[0m \u001b[0;32mlambda\u001b[0m \u001b[0mx\u001b[0m\u001b[0;34m,\u001b[0m \u001b[0my\u001b[0m\u001b[0;34m,\u001b[0m \u001b[0msame\u001b[0m\u001b[0;34m:\u001b[0m \u001b[0mode_kernel\u001b[0m\u001b[0;34m(\u001b[0m\u001b[0mx\u001b[0m\u001b[0;34m,\u001b[0m \u001b[0my\u001b[0m\u001b[0;34m,\u001b[0m \u001b[0;36m1\u001b[0m\u001b[0;34m,\u001b[0m \u001b[0;36m1\u001b[0m\u001b[0;34m,\u001b[0m \u001b[0;36m1\u001b[0m\u001b[0;34m,\u001b[0m \u001b[0;36m28\u001b[0m\u001b[0;34m*\u001b[0m\u001b[0;36m28\u001b[0m\u001b[0;34m,\u001b[0m \u001b[0mmethod\u001b[0m\u001b[0;34m=\u001b[0m\u001b[0;34m'dopri5'\u001b[0m\u001b[0;34m,\u001b[0m \u001b[0matol\u001b[0m\u001b[0;34m=\u001b[0m\u001b[0mtol\u001b[0m\u001b[0;34m,\u001b[0m \u001b[0mrtol\u001b[0m\u001b[0;34m=\u001b[0m\u001b[0mtol\u001b[0m\u001b[0;34m,\u001b[0m \u001b[0mT\u001b[0m\u001b[0;34m=\u001b[0m\u001b[0;36m50\u001b[0m\u001b[0;34m)\u001b[0m\u001b[0;34m\u001b[0m\u001b[0;34m\u001b[0m\u001b[0m\n\u001b[0m\u001b[1;32m      4\u001b[0m \u001b[0;31m# kernel = lambda x, y, same: ode_conv_kernel(x, y, 1, 1, 1, 28*28, method='dopri5', atol=tol, rtol=tol, same=same)\u001b[0m\u001b[0;34m\u001b[0m\u001b[0;34m\u001b[0m\u001b[0;34m\u001b[0m\u001b[0m\n\u001b[1;32m      5\u001b[0m \u001b[0;31m# kernel = lambda x, y, same: ode_conv_kernel(x, y, 1, 1, n=1, dim=28*28, method='euler', same=same)\u001b[0m\u001b[0;34m\u001b[0m\u001b[0;34m\u001b[0m\u001b[0;34m\u001b[0m\u001b[0m\n",
            "\u001b[0;32m/content/KernelODEsAdversarial/kernelode/kernel_ode.py\u001b[0m in \u001b[0;36mode_kernel\u001b[0;34m(X, Y, σ_b, σ_w, n, dim, method, atol, rtol, T, num_steps)\u001b[0m\n\u001b[1;32m     64\u001b[0m         \u001b[0mout\u001b[0m \u001b[0;34m=\u001b[0m \u001b[0modeint\u001b[0m\u001b[0;34m(\u001b[0m\u001b[0mdrift\u001b[0m\u001b[0;34m,\u001b[0m \u001b[0my0\u001b[0m\u001b[0;34m,\u001b[0m \u001b[0mts\u001b[0m\u001b[0;34m,\u001b[0m \u001b[0mmethod\u001b[0m\u001b[0;34m=\u001b[0m\u001b[0;34m\"euler\"\u001b[0m\u001b[0;34m,\u001b[0m \u001b[0moptions\u001b[0m\u001b[0;34m=\u001b[0m\u001b[0;34m{\u001b[0m\u001b[0;34m\"step_size\"\u001b[0m\u001b[0;34m:\u001b[0m\u001b[0mdt\u001b[0m\u001b[0;34m}\u001b[0m\u001b[0;34m)\u001b[0m\u001b[0;34m\u001b[0m\u001b[0;34m\u001b[0m\u001b[0m\n\u001b[1;32m     65\u001b[0m     \u001b[0;32melif\u001b[0m \u001b[0mmethod\u001b[0m\u001b[0;34m==\u001b[0m\u001b[0;34m'dopri5'\u001b[0m\u001b[0;34m:\u001b[0m\u001b[0;34m\u001b[0m\u001b[0;34m\u001b[0m\u001b[0m\n\u001b[0;32m---> 66\u001b[0;31m         \u001b[0mout\u001b[0m \u001b[0;34m=\u001b[0m \u001b[0modeint\u001b[0m\u001b[0;34m(\u001b[0m\u001b[0mdrift\u001b[0m\u001b[0;34m,\u001b[0m \u001b[0my0\u001b[0m\u001b[0;34m,\u001b[0m \u001b[0mts\u001b[0m\u001b[0;34m,\u001b[0m \u001b[0mmethod\u001b[0m\u001b[0;34m=\u001b[0m\u001b[0;34m'dopri5'\u001b[0m\u001b[0;34m,\u001b[0m \u001b[0matol\u001b[0m\u001b[0;34m=\u001b[0m\u001b[0matol\u001b[0m\u001b[0;34m,\u001b[0m \u001b[0mrtol\u001b[0m\u001b[0;34m=\u001b[0m\u001b[0mrtol\u001b[0m\u001b[0;34m)\u001b[0m\u001b[0;34m\u001b[0m\u001b[0;34m\u001b[0m\u001b[0m\n\u001b[0m\u001b[1;32m     67\u001b[0m     \u001b[0;32melse\u001b[0m\u001b[0;34m:\u001b[0m\u001b[0;34m\u001b[0m\u001b[0;34m\u001b[0m\u001b[0m\n\u001b[1;32m     68\u001b[0m         \u001b[0mout\u001b[0m \u001b[0;34m=\u001b[0m \u001b[0modeint\u001b[0m\u001b[0;34m(\u001b[0m\u001b[0mdrift\u001b[0m\u001b[0;34m,\u001b[0m \u001b[0my0\u001b[0m\u001b[0;34m,\u001b[0m \u001b[0mts\u001b[0m\u001b[0;34m,\u001b[0m \u001b[0mmethod\u001b[0m\u001b[0;34m=\u001b[0m\u001b[0mmethod\u001b[0m\u001b[0;34m)\u001b[0m\u001b[0;34m\u001b[0m\u001b[0;34m\u001b[0m\u001b[0m\n",
            "\u001b[0;32m/usr/local/lib/python3.7/dist-packages/torchdiffeq/_impl/odeint.py\u001b[0m in \u001b[0;36modeint\u001b[0;34m(func, y0, t, rtol, atol, method, options, event_fn)\u001b[0m\n\u001b[1;32m     75\u001b[0m \u001b[0;34m\u001b[0m\u001b[0m\n\u001b[1;32m     76\u001b[0m     \u001b[0;32mif\u001b[0m \u001b[0mevent_fn\u001b[0m \u001b[0;32mis\u001b[0m \u001b[0;32mNone\u001b[0m\u001b[0;34m:\u001b[0m\u001b[0;34m\u001b[0m\u001b[0;34m\u001b[0m\u001b[0m\n\u001b[0;32m---> 77\u001b[0;31m         \u001b[0msolution\u001b[0m \u001b[0;34m=\u001b[0m \u001b[0msolver\u001b[0m\u001b[0;34m.\u001b[0m\u001b[0mintegrate\u001b[0m\u001b[0;34m(\u001b[0m\u001b[0mt\u001b[0m\u001b[0;34m)\u001b[0m\u001b[0;34m\u001b[0m\u001b[0;34m\u001b[0m\u001b[0m\n\u001b[0m\u001b[1;32m     78\u001b[0m     \u001b[0;32melse\u001b[0m\u001b[0;34m:\u001b[0m\u001b[0;34m\u001b[0m\u001b[0;34m\u001b[0m\u001b[0m\n\u001b[1;32m     79\u001b[0m         \u001b[0mevent_t\u001b[0m\u001b[0;34m,\u001b[0m \u001b[0msolution\u001b[0m \u001b[0;34m=\u001b[0m \u001b[0msolver\u001b[0m\u001b[0;34m.\u001b[0m\u001b[0mintegrate_until_event\u001b[0m\u001b[0;34m(\u001b[0m\u001b[0mt\u001b[0m\u001b[0;34m[\u001b[0m\u001b[0;36m0\u001b[0m\u001b[0;34m]\u001b[0m\u001b[0;34m,\u001b[0m \u001b[0mevent_fn\u001b[0m\u001b[0;34m)\u001b[0m\u001b[0;34m\u001b[0m\u001b[0;34m\u001b[0m\u001b[0m\n",
            "\u001b[0;32m/usr/local/lib/python3.7/dist-packages/torchdiffeq/_impl/solvers.py\u001b[0m in \u001b[0;36mintegrate\u001b[0;34m(self, t)\u001b[0m\n\u001b[1;32m     28\u001b[0m         \u001b[0mself\u001b[0m\u001b[0;34m.\u001b[0m\u001b[0m_before_integrate\u001b[0m\u001b[0;34m(\u001b[0m\u001b[0mt\u001b[0m\u001b[0;34m)\u001b[0m\u001b[0;34m\u001b[0m\u001b[0;34m\u001b[0m\u001b[0m\n\u001b[1;32m     29\u001b[0m         \u001b[0;32mfor\u001b[0m \u001b[0mi\u001b[0m \u001b[0;32min\u001b[0m \u001b[0mrange\u001b[0m\u001b[0;34m(\u001b[0m\u001b[0;36m1\u001b[0m\u001b[0;34m,\u001b[0m \u001b[0mlen\u001b[0m\u001b[0;34m(\u001b[0m\u001b[0mt\u001b[0m\u001b[0;34m)\u001b[0m\u001b[0;34m)\u001b[0m\u001b[0;34m:\u001b[0m\u001b[0;34m\u001b[0m\u001b[0;34m\u001b[0m\u001b[0m\n\u001b[0;32m---> 30\u001b[0;31m             \u001b[0msolution\u001b[0m\u001b[0;34m[\u001b[0m\u001b[0mi\u001b[0m\u001b[0;34m]\u001b[0m \u001b[0;34m=\u001b[0m \u001b[0mself\u001b[0m\u001b[0;34m.\u001b[0m\u001b[0m_advance\u001b[0m\u001b[0;34m(\u001b[0m\u001b[0mt\u001b[0m\u001b[0;34m[\u001b[0m\u001b[0mi\u001b[0m\u001b[0;34m]\u001b[0m\u001b[0;34m)\u001b[0m\u001b[0;34m\u001b[0m\u001b[0;34m\u001b[0m\u001b[0m\n\u001b[0m\u001b[1;32m     31\u001b[0m         \u001b[0;32mreturn\u001b[0m \u001b[0msolution\u001b[0m\u001b[0;34m\u001b[0m\u001b[0;34m\u001b[0m\u001b[0m\n\u001b[1;32m     32\u001b[0m \u001b[0;34m\u001b[0m\u001b[0m\n",
            "\u001b[0;32m/usr/local/lib/python3.7/dist-packages/torchdiffeq/_impl/rk_common.py\u001b[0m in \u001b[0;36m_advance\u001b[0;34m(self, next_t)\u001b[0m\n\u001b[1;32m    192\u001b[0m         \u001b[0;32mwhile\u001b[0m \u001b[0mnext_t\u001b[0m \u001b[0;34m>\u001b[0m \u001b[0mself\u001b[0m\u001b[0;34m.\u001b[0m\u001b[0mrk_state\u001b[0m\u001b[0;34m.\u001b[0m\u001b[0mt1\u001b[0m\u001b[0;34m:\u001b[0m\u001b[0;34m\u001b[0m\u001b[0;34m\u001b[0m\u001b[0m\n\u001b[1;32m    193\u001b[0m             \u001b[0;32massert\u001b[0m \u001b[0mn_steps\u001b[0m \u001b[0;34m<\u001b[0m \u001b[0mself\u001b[0m\u001b[0;34m.\u001b[0m\u001b[0mmax_num_steps\u001b[0m\u001b[0;34m,\u001b[0m \u001b[0;34m'max_num_steps exceeded ({}>={})'\u001b[0m\u001b[0;34m.\u001b[0m\u001b[0mformat\u001b[0m\u001b[0;34m(\u001b[0m\u001b[0mn_steps\u001b[0m\u001b[0;34m,\u001b[0m \u001b[0mself\u001b[0m\u001b[0;34m.\u001b[0m\u001b[0mmax_num_steps\u001b[0m\u001b[0;34m)\u001b[0m\u001b[0;34m\u001b[0m\u001b[0;34m\u001b[0m\u001b[0m\n\u001b[0;32m--> 194\u001b[0;31m             \u001b[0mself\u001b[0m\u001b[0;34m.\u001b[0m\u001b[0mrk_state\u001b[0m \u001b[0;34m=\u001b[0m \u001b[0mself\u001b[0m\u001b[0;34m.\u001b[0m\u001b[0m_adaptive_step\u001b[0m\u001b[0;34m(\u001b[0m\u001b[0mself\u001b[0m\u001b[0;34m.\u001b[0m\u001b[0mrk_state\u001b[0m\u001b[0;34m)\u001b[0m\u001b[0;34m\u001b[0m\u001b[0;34m\u001b[0m\u001b[0m\n\u001b[0m\u001b[1;32m    195\u001b[0m             \u001b[0mn_steps\u001b[0m \u001b[0;34m+=\u001b[0m \u001b[0;36m1\u001b[0m\u001b[0;34m\u001b[0m\u001b[0;34m\u001b[0m\u001b[0m\n\u001b[1;32m    196\u001b[0m         \u001b[0;32mreturn\u001b[0m \u001b[0m_interp_evaluate\u001b[0m\u001b[0;34m(\u001b[0m\u001b[0mself\u001b[0m\u001b[0;34m.\u001b[0m\u001b[0mrk_state\u001b[0m\u001b[0;34m.\u001b[0m\u001b[0minterp_coeff\u001b[0m\u001b[0;34m,\u001b[0m \u001b[0mself\u001b[0m\u001b[0;34m.\u001b[0m\u001b[0mrk_state\u001b[0m\u001b[0;34m.\u001b[0m\u001b[0mt0\u001b[0m\u001b[0;34m,\u001b[0m \u001b[0mself\u001b[0m\u001b[0;34m.\u001b[0m\u001b[0mrk_state\u001b[0m\u001b[0;34m.\u001b[0m\u001b[0mt1\u001b[0m\u001b[0;34m,\u001b[0m \u001b[0mnext_t\u001b[0m\u001b[0;34m)\u001b[0m\u001b[0;34m\u001b[0m\u001b[0;34m\u001b[0m\u001b[0m\n",
            "\u001b[0;32m/usr/local/lib/python3.7/dist-packages/torchdiffeq/_impl/rk_common.py\u001b[0m in \u001b[0;36m_adaptive_step\u001b[0;34m(self, rk_state)\u001b[0m\n\u001b[1;32m    253\u001b[0m         \u001b[0;31m# trigger both. (i.e. interleaving them would be wrong.)\u001b[0m\u001b[0;34m\u001b[0m\u001b[0;34m\u001b[0m\u001b[0;34m\u001b[0m\u001b[0m\n\u001b[1;32m    254\u001b[0m \u001b[0;34m\u001b[0m\u001b[0m\n\u001b[0;32m--> 255\u001b[0;31m         \u001b[0my1\u001b[0m\u001b[0;34m,\u001b[0m \u001b[0mf1\u001b[0m\u001b[0;34m,\u001b[0m \u001b[0my1_error\u001b[0m\u001b[0;34m,\u001b[0m \u001b[0mk\u001b[0m \u001b[0;34m=\u001b[0m \u001b[0m_runge_kutta_step\u001b[0m\u001b[0;34m(\u001b[0m\u001b[0mself\u001b[0m\u001b[0;34m.\u001b[0m\u001b[0mfunc\u001b[0m\u001b[0;34m,\u001b[0m \u001b[0my0\u001b[0m\u001b[0;34m,\u001b[0m \u001b[0mf0\u001b[0m\u001b[0;34m,\u001b[0m \u001b[0mt0\u001b[0m\u001b[0;34m,\u001b[0m \u001b[0mdt\u001b[0m\u001b[0;34m,\u001b[0m \u001b[0mt1\u001b[0m\u001b[0;34m,\u001b[0m \u001b[0mtableau\u001b[0m\u001b[0;34m=\u001b[0m\u001b[0mself\u001b[0m\u001b[0;34m.\u001b[0m\u001b[0mtableau\u001b[0m\u001b[0;34m)\u001b[0m\u001b[0;34m\u001b[0m\u001b[0;34m\u001b[0m\u001b[0m\n\u001b[0m\u001b[1;32m    256\u001b[0m         \u001b[0;31m# dtypes:\u001b[0m\u001b[0;34m\u001b[0m\u001b[0;34m\u001b[0m\u001b[0;34m\u001b[0m\u001b[0m\n\u001b[1;32m    257\u001b[0m         \u001b[0;31m# y1.dtype == self.y0.dtype\u001b[0m\u001b[0;34m\u001b[0m\u001b[0;34m\u001b[0m\u001b[0;34m\u001b[0m\u001b[0m\n",
            "\u001b[0;32m/usr/local/lib/python3.7/dist-packages/torchdiffeq/_impl/rk_common.py\u001b[0m in \u001b[0;36m_runge_kutta_step\u001b[0;34m(func, y0, f0, t0, dt, t1, tableau)\u001b[0m\n\u001b[1;32m     74\u001b[0m             \u001b[0mperturb\u001b[0m \u001b[0;34m=\u001b[0m \u001b[0mPerturb\u001b[0m\u001b[0;34m.\u001b[0m\u001b[0mNONE\u001b[0m\u001b[0;34m\u001b[0m\u001b[0;34m\u001b[0m\u001b[0m\n\u001b[1;32m     75\u001b[0m         \u001b[0myi\u001b[0m \u001b[0;34m=\u001b[0m \u001b[0my0\u001b[0m \u001b[0;34m+\u001b[0m \u001b[0mk\u001b[0m\u001b[0;34m[\u001b[0m\u001b[0;34m...\u001b[0m\u001b[0;34m,\u001b[0m \u001b[0;34m:\u001b[0m\u001b[0mi\u001b[0m \u001b[0;34m+\u001b[0m \u001b[0;36m1\u001b[0m\u001b[0;34m]\u001b[0m\u001b[0;34m.\u001b[0m\u001b[0mmatmul\u001b[0m\u001b[0;34m(\u001b[0m\u001b[0mbeta_i\u001b[0m \u001b[0;34m*\u001b[0m \u001b[0mdt\u001b[0m\u001b[0;34m)\u001b[0m\u001b[0;34m.\u001b[0m\u001b[0mview_as\u001b[0m\u001b[0;34m(\u001b[0m\u001b[0mf0\u001b[0m\u001b[0;34m)\u001b[0m\u001b[0;34m\u001b[0m\u001b[0;34m\u001b[0m\u001b[0m\n\u001b[0;32m---> 76\u001b[0;31m         \u001b[0mf\u001b[0m \u001b[0;34m=\u001b[0m \u001b[0mfunc\u001b[0m\u001b[0;34m(\u001b[0m\u001b[0mti\u001b[0m\u001b[0;34m,\u001b[0m \u001b[0myi\u001b[0m\u001b[0;34m,\u001b[0m \u001b[0mperturb\u001b[0m\u001b[0;34m=\u001b[0m\u001b[0mperturb\u001b[0m\u001b[0;34m)\u001b[0m\u001b[0;34m\u001b[0m\u001b[0;34m\u001b[0m\u001b[0m\n\u001b[0m\u001b[1;32m     77\u001b[0m         \u001b[0mk\u001b[0m \u001b[0;34m=\u001b[0m \u001b[0m_UncheckedAssign\u001b[0m\u001b[0;34m.\u001b[0m\u001b[0mapply\u001b[0m\u001b[0;34m(\u001b[0m\u001b[0mk\u001b[0m\u001b[0;34m,\u001b[0m \u001b[0mf\u001b[0m\u001b[0;34m,\u001b[0m \u001b[0;34m(\u001b[0m\u001b[0;34m...\u001b[0m\u001b[0;34m,\u001b[0m \u001b[0mi\u001b[0m \u001b[0;34m+\u001b[0m \u001b[0;36m1\u001b[0m\u001b[0;34m)\u001b[0m\u001b[0;34m)\u001b[0m\u001b[0;34m\u001b[0m\u001b[0;34m\u001b[0m\u001b[0m\n\u001b[1;32m     78\u001b[0m \u001b[0;34m\u001b[0m\u001b[0m\n",
            "\u001b[0;32m/usr/local/lib/python3.7/dist-packages/torch/nn/modules/module.py\u001b[0m in \u001b[0;36m_call_impl\u001b[0;34m(self, *input, **kwargs)\u001b[0m\n\u001b[1;32m   1049\u001b[0m         if not (self._backward_hooks or self._forward_hooks or self._forward_pre_hooks or _global_backward_hooks\n\u001b[1;32m   1050\u001b[0m                 or _global_forward_hooks or _global_forward_pre_hooks):\n\u001b[0;32m-> 1051\u001b[0;31m             \u001b[0;32mreturn\u001b[0m \u001b[0mforward_call\u001b[0m\u001b[0;34m(\u001b[0m\u001b[0;34m*\u001b[0m\u001b[0minput\u001b[0m\u001b[0;34m,\u001b[0m \u001b[0;34m**\u001b[0m\u001b[0mkwargs\u001b[0m\u001b[0;34m)\u001b[0m\u001b[0;34m\u001b[0m\u001b[0;34m\u001b[0m\u001b[0m\n\u001b[0m\u001b[1;32m   1052\u001b[0m         \u001b[0;31m# Do not call functions when jit is used\u001b[0m\u001b[0;34m\u001b[0m\u001b[0;34m\u001b[0m\u001b[0;34m\u001b[0m\u001b[0m\n\u001b[1;32m   1053\u001b[0m         \u001b[0mfull_backward_hooks\u001b[0m\u001b[0;34m,\u001b[0m \u001b[0mnon_full_backward_hooks\u001b[0m \u001b[0;34m=\u001b[0m \u001b[0;34m[\u001b[0m\u001b[0;34m]\u001b[0m\u001b[0;34m,\u001b[0m \u001b[0;34m[\u001b[0m\u001b[0;34m]\u001b[0m\u001b[0;34m\u001b[0m\u001b[0;34m\u001b[0m\u001b[0m\n",
            "\u001b[0;32m/usr/local/lib/python3.7/dist-packages/torchdiffeq/_impl/misc.py\u001b[0m in \u001b[0;36mforward\u001b[0;34m(self, t, y, perturb)\u001b[0m\n\u001b[1;32m    187\u001b[0m             \u001b[0;31m# Do nothing.\u001b[0m\u001b[0;34m\u001b[0m\u001b[0;34m\u001b[0m\u001b[0;34m\u001b[0m\u001b[0m\n\u001b[1;32m    188\u001b[0m             \u001b[0;32mpass\u001b[0m\u001b[0;34m\u001b[0m\u001b[0;34m\u001b[0m\u001b[0m\n\u001b[0;32m--> 189\u001b[0;31m         \u001b[0;32mreturn\u001b[0m \u001b[0mself\u001b[0m\u001b[0;34m.\u001b[0m\u001b[0mbase_func\u001b[0m\u001b[0;34m(\u001b[0m\u001b[0mt\u001b[0m\u001b[0;34m,\u001b[0m \u001b[0my\u001b[0m\u001b[0;34m)\u001b[0m\u001b[0;34m\u001b[0m\u001b[0;34m\u001b[0m\u001b[0m\n\u001b[0m\u001b[1;32m    190\u001b[0m \u001b[0;34m\u001b[0m\u001b[0m\n\u001b[1;32m    191\u001b[0m \u001b[0;34m\u001b[0m\u001b[0m\n",
            "\u001b[0;32m/content/KernelODEsAdversarial/kernelode/kernel_ode.py\u001b[0m in \u001b[0;36mdrift\u001b[0;34m(t, k)\u001b[0m\n\u001b[1;32m     56\u001b[0m         \u001b[0mct\u001b[0m \u001b[0;34m=\u001b[0m \u001b[0mc_t\u001b[0m\u001b[0;34m(\u001b[0m\u001b[0mt\u001b[0m\u001b[0;34m,\u001b[0m\u001b[0mk\u001b[0m\u001b[0;34m)\u001b[0m\u001b[0;34m\u001b[0m\u001b[0;34m\u001b[0m\u001b[0m\n\u001b[1;32m     57\u001b[0m \u001b[0;34m\u001b[0m\u001b[0m\n\u001b[0;32m---> 58\u001b[0;31m         \u001b[0mresult\u001b[0m \u001b[0;34m=\u001b[0m \u001b[0mσ_b\u001b[0m\u001b[0;34m**\u001b[0m\u001b[0;36m2\u001b[0m \u001b[0;34m+\u001b[0m \u001b[0;36m0.5\u001b[0m \u001b[0;34m*\u001b[0m \u001b[0mσ_w\u001b[0m\u001b[0;34m**\u001b[0m\u001b[0;36m2\u001b[0m \u001b[0;34m*\u001b[0m \u001b[0;34m(\u001b[0m\u001b[0;36m1.0\u001b[0m \u001b[0;34m+\u001b[0m \u001b[0;34m(\u001b[0m\u001b[0mf\u001b[0m\u001b[0;34m(\u001b[0m\u001b[0mct\u001b[0m\u001b[0;34m)\u001b[0m \u001b[0;34m/\u001b[0m \u001b[0mct\u001b[0m\u001b[0;34m)\u001b[0m  \u001b[0;34m)\u001b[0m \u001b[0;34m*\u001b[0m \u001b[0mk\u001b[0m\u001b[0;34m\u001b[0m\u001b[0;34m\u001b[0m\u001b[0m\n\u001b[0m\u001b[1;32m     59\u001b[0m \u001b[0;34m\u001b[0m\u001b[0m\n\u001b[1;32m     60\u001b[0m         \u001b[0;32mreturn\u001b[0m \u001b[0mresult\u001b[0m\u001b[0;34m\u001b[0m\u001b[0;34m\u001b[0m\u001b[0m\n",
            "\u001b[0;32m/content/KernelODEsAdversarial/kernelode/kernel_ode.py\u001b[0m in \u001b[0;36mf\u001b[0;34m(γ)\u001b[0m\n\u001b[1;32m     34\u001b[0m     \u001b[0;32mdef\u001b[0m \u001b[0mf\u001b[0m\u001b[0;34m(\u001b[0m\u001b[0mγ\u001b[0m\u001b[0;34m)\u001b[0m\u001b[0;34m:\u001b[0m\u001b[0;34m\u001b[0m\u001b[0;34m\u001b[0m\u001b[0m\n\u001b[1;32m     35\u001b[0m         \u001b[0mϵ\u001b[0m \u001b[0;34m=\u001b[0m \u001b[0;36m1e-6\u001b[0m\u001b[0;34m\u001b[0m\u001b[0;34m\u001b[0m\u001b[0m\n\u001b[0;32m---> 36\u001b[0;31m         \u001b[0mγ\u001b[0m \u001b[0;34m=\u001b[0m \u001b[0mϵ\u001b[0m \u001b[0;34m+\u001b[0m \u001b[0;34m(\u001b[0m\u001b[0;36m1\u001b[0m \u001b[0;34m-\u001b[0m \u001b[0;36m2\u001b[0m \u001b[0;34m*\u001b[0m \u001b[0mϵ\u001b[0m\u001b[0;34m)\u001b[0m \u001b[0;34m*\u001b[0m \u001b[0mtorch\u001b[0m\u001b[0;34m.\u001b[0m\u001b[0mclip\u001b[0m\u001b[0;34m(\u001b[0m\u001b[0mγ\u001b[0m\u001b[0;34m,\u001b[0m\u001b[0;34m-\u001b[0m\u001b[0;36m1\u001b[0m\u001b[0;34m,\u001b[0m\u001b[0;36m1\u001b[0m\u001b[0;34m)\u001b[0m\u001b[0;34m\u001b[0m\u001b[0;34m\u001b[0m\u001b[0m\n\u001b[0m\u001b[1;32m     37\u001b[0m \u001b[0;34m\u001b[0m\u001b[0m\n\u001b[1;32m     38\u001b[0m         \u001b[0;32mreturn\u001b[0m \u001b[0;34m(\u001b[0m\u001b[0;36m1.0\u001b[0m \u001b[0;34m/\u001b[0m \u001b[0mπ\u001b[0m\u001b[0;34m)\u001b[0m \u001b[0;34m*\u001b[0m \u001b[0;34m(\u001b[0m\u001b[0mtorch\u001b[0m\u001b[0;34m.\u001b[0m\u001b[0msqrt\u001b[0m\u001b[0;34m(\u001b[0m\u001b[0;36m1.0\u001b[0m \u001b[0;34m-\u001b[0m \u001b[0mγ\u001b[0m\u001b[0;34m**\u001b[0m\u001b[0;36m2\u001b[0m\u001b[0;34m)\u001b[0m \u001b[0;34m-\u001b[0m \u001b[0mγ\u001b[0m \u001b[0;34m*\u001b[0m \u001b[0mtorch\u001b[0m\u001b[0;34m.\u001b[0m\u001b[0marccos\u001b[0m\u001b[0;34m(\u001b[0m\u001b[0mγ\u001b[0m\u001b[0;34m)\u001b[0m\u001b[0;34m)\u001b[0m\u001b[0;34m\u001b[0m\u001b[0;34m\u001b[0m\u001b[0m\n",
            "\u001b[0;31mKeyboardInterrupt\u001b[0m: "
          ]
        }
      ]
    },
    {
      "cell_type": "code",
      "metadata": {
        "colab": {
          "base_uri": "https://localhost:8080/",
          "height": 298
        },
        "id": "BTxqyOBSMUCW",
        "outputId": "d9d4d333-3fb2-4000-d101-fa46ebb1ff06"
      },
      "source": [
        "plt.scatter(epss, accuracies)\n",
        "plt.xlabel(\"Epsilon\")\n",
        "plt.ylabel(\"Accuracy\")"
      ],
      "execution_count": 214,
      "outputs": [
        {
          "output_type": "execute_result",
          "data": {
            "text/plain": [
              "Text(0, 0.5, 'Accuracy')"
            ]
          },
          "metadata": {},
          "execution_count": 214
        },
        {
          "output_type": "display_data",
          "data": {
            "image/png": "[encoded data removed]",
            "text/plain": [
              "<Figure size 432x288 with 1 Axes>"
            ]
          },
          "metadata": {
            "needs_background": "light"
          }
        }
      ]
    },
    {
      "cell_type": "markdown",
      "metadata": {
        "id": "E-6cd9fbL91g"
      },
      "source": [
        "### Uncertainty measures\n"
      ]
    },
    {
      "cell_type": "code",
      "metadata": {
        "id": "6RuIN4GTzyFp"
      },
      "source": [
        "Kavxavx = kernel(test_attack_images, test_attack_images, False)[-1,...].T\n",
        "\n",
        "variances_adv = torch.diag(Kavxavx - Kxavx.mm(torch.linalg.solve(Kxx, Kxavx.T)))"
      ],
      "execution_count": 223,
      "outputs": []
    },
    {
      "cell_type": "code",
      "metadata": {
        "id": "eLre6k-dzGzg"
      },
      "source": [
        "Kvxvx = kernel(test_example_data, test_example_data, False)[-1,...].T\n",
        "\n",
        "variances = torch.diag(Kvxvx - Kxvx.mm(torch.linalg.solve(Kxx, Kxvx.T)))"
      ],
      "execution_count": 224,
      "outputs": []
    },
    {
      "cell_type": "code",
      "metadata": {
        "colab": {
          "base_uri": "https://localhost:8080/",
          "height": 308
        },
        "id": "w4LRKjaczttL",
        "outputId": "7d92e08a-1329-4984-f187-17b8e4f037e7"
      },
      "source": [
        "import numpy as np\n",
        "\n",
        "plt.scatter(np.arange(len(variances)), variances.detach(), c='red', label=\"Normal\")\n",
        "plt.scatter(np.arange(len(variances_adv)), variances_adv.detach(), c='blue', label=\"Adversarial\")\n",
        "plt.xlabel('Data point')\n",
        "plt.ylabel(\"Uncertainty estimate\")\n",
        "plt.legend()"
      ],
      "execution_count": 230,
      "outputs": [
        {
          "output_type": "execute_result",
          "data": {
            "text/plain": [
              "<matplotlib.legend.Legend at 0x7f787c5ee450>"
            ]
          },
          "metadata": {},
          "execution_count": 230
        },
        {
          "output_type": "display_data",
          "data": {
            "image/png": "[encoded data removed]",
            "text/plain": [
              "<Figure size 432x288 with 1 Axes>"
            ]
          },
          "metadata": {
            "needs_background": "light"
          }
        }
      ]
    },
    {
      "cell_type": "markdown",
      "metadata": {
        "id": "jwQbgQ4YMCM3"
      },
      "source": [
        "### Adversarial Image Plots"
      ]
    },
    {
      "cell_type": "code",
      "metadata": {
        "colab": {
          "base_uri": "https://localhost:8080/",
          "height": 266
        },
        "id": "flz70KHu-hYs",
        "outputId": "8dc310a6-c603-41e8-e5a9-9f44fe021cec"
      },
      "source": [
        "plt.imshow(test_example_data[0][0].detach())\n",
        "plt.axis('off')"
      ],
      "execution_count": null,
      "outputs": [
        {
          "output_type": "execute_result",
          "data": {
            "text/plain": [
              "(-0.5, 27.5, 27.5, -0.5)"
            ]
          },
          "metadata": {},
          "execution_count": 151
        },
        {
          "output_type": "display_data",
          "data": {
            "image/png": "[encoded data removed]",
            "text/plain": [
              "<Figure size 432x288 with 1 Axes>"
            ]
          },
          "metadata": {
            "needs_background": "light"
          }
        }
      ]
    },
    {
      "cell_type": "code",
      "metadata": {
        "colab": {
          "base_uri": "https://localhost:8080/",
          "height": 266
        },
        "id": "QF9cO1Bu-jpw",
        "outputId": "52e3ffe5-c3b2-4c91-e44b-010060da6133"
      },
      "source": [
        "plt.imshow(test_attack_images[0][0].detach())\n",
        "plt.axis('off')"
      ],
      "execution_count": null,
      "outputs": [
        {
          "output_type": "execute_result",
          "data": {
            "text/plain": [
              "(-0.5, 27.5, 27.5, -0.5)"
            ]
          },
          "metadata": {},
          "execution_count": 152
        },
        {
          "output_type": "display_data",
          "data": {
            "image/png": "[encoded data removed]",
            "text/plain": [
              "<Figure size 432x288 with 1 Axes>"
            ]
          },
          "metadata": {
            "needs_background": "light"
          }
        }
      ]
    },
    {
      "cell_type": "code",
      "metadata": {
        "id": "ILq4L6KAOAKf"
      },
      "source": [
        "eps = torch.tensor([0.0001, 0.001, 0.01, 0.1])\n",
        "images_to_show = test_example_data[:4]\n",
        "test_attack_images_to_show = images_to_show + eps.reshape(-1, 1, 1, 1)*test_example_data.grad.sign()[:4]\n",
        "test_attack_images_to_show = torch.clamp(test_attack_images_to_show, 0, 1)"
      ],
      "execution_count": null,
      "outputs": []
    },
    {
      "cell_type": "code",
      "metadata": {
        "colab": {
          "base_uri": "https://localhost:8080/",
          "height": 137
        },
        "id": "bj6hHAWROi0K",
        "outputId": "2dceb7b9-3f36-4031-ca95-6310ec273b15"
      },
      "source": [
        "import torchvision\n",
        "\n",
        "grid_img = torchvision.utils.make_grid(test_attack_images_to_show, nrow=4)\n",
        "plt.imshow(grid_img.permute(1, 2, 0), cmap='copper')\n",
        "plt.axis('off')"
      ],
      "execution_count": null,
      "outputs": [
        {
          "output_type": "execute_result",
          "data": {
            "text/plain": [
              "(-0.5, 121.5, 31.5, -0.5)"
            ]
          },
          "metadata": {},
          "execution_count": 154
        },
        {
          "output_type": "display_data",
          "data": {
            "image/png": "[encoded data removed]",
            "text/plain": [
              "<Figure size 432x288 with 1 Axes>"
            ]
          },
          "metadata": {
            "needs_background": "light"
          }
        }
      ]
    },
    {
      "cell_type": "code",
      "metadata": {
        "colab": {
          "base_uri": "https://localhost:8080/",
          "height": 284
        },
        "id": "_kq6TTy2-kr6",
        "outputId": "d04e8816-5395-4366-f7f2-376e704baf53"
      },
      "source": [
        "fig = plt.figure()\n",
        "for i in range(0, 3):\n",
        "  plt.subplot(3,2,2*i+1)\n",
        "  plt.tight_layout()\n",
        "  plt.imshow(test_example_data[i][0].detach(), cmap='gray', interpolation='none')\n",
        "  plt.title(\"Ground Truth: {}\".format(test_example_targets[i]))\n",
        "  plt.xticks([])\n",
        "  plt.yticks([])\n",
        "  plt.subplot(3,2,2*i+2)\n",
        "  plt.tight_layout()\n",
        "  plt.imshow(test_attack_images[i][0].detach(), cmap='gray', interpolation='none')\n",
        "  plt.title(\"Prediction: {}\".format(preds[i]))\n",
        "  plt.xticks([])\n",
        "  plt.yticks([])"
      ],
      "execution_count": null,
      "outputs": [
        {
          "output_type": "display_data",
          "data": {
            "image/png": "[encoded data removed]",
            "text/plain": [
              "<Figure size 432x288 with 6 Axes>"
            ]
          },
          "metadata": {}
        }
      ]
    }
  ]
}