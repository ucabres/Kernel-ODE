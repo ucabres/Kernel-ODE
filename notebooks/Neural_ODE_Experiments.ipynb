{
  "nbformat": 4,
  "nbformat_minor": 0,
  "metadata": {
    "colab": {
      "name": "Neural_ODE_Experiments.ipynb",
      "provenance": [],
      "collapsed_sections": [
        "gn8AT4bxPkF1"
      ]
    },
    "kernelspec": {
      "name": "python3",
      "display_name": "Python 3"
    },
    "language_info": {
      "name": "python"
    },
    "accelerator": "GPU"
  },
  "cells": [
    {
      "cell_type": "code",
      "metadata": {
        "colab": {
          "base_uri": "https://localhost:8080/"
        },
        "id": "MouqFsYZ6o57",
        "outputId": "a3f14a14-fc1b-4203-f955-8d4a98e9e630"
      },
      "source": [
        "from pathlib import Path\n",
        "\n",
        "repo_url  = 'https://github.com/rtqichen/torchdiffeq'\n",
        "project_path        = Path('/').absolute() / 'content'\n",
        "neuralode_repo_path = project_path / 'NeuralODE'\n",
        "\n",
        "# Create project folder if inexistant\n",
        "if not project_path.is_dir():\n",
        "    %mkdir \"{project_path}\"\n",
        "%cd \"{project_path}\"\n",
        "\n",
        "# Download repository\n",
        "!git config --global user.name \"ucabres\"\n",
        "!git config --global user.email \"ucabres@ucl.ac.uk\"\n",
        "if neuralode_repo_path.is_dir():\n",
        "    !git -C \"{neuralode_repo_path}\" fetch origin\n",
        "    !git -C \"{neuralode_repo_path}\" checkout origin/main -- *.py\n",
        "else:\n",
        "    print(\"Install repository\")\n",
        "    !git clone {repo_url}"
      ],
      "execution_count": 1,
      "outputs": [
        {
          "output_type": "stream",
          "name": "stdout",
          "text": [
            "/content\n",
            "Install repository\n",
            "fatal: destination path 'torchdiffeq' already exists and is not an empty directory.\n"
          ]
        }
      ]
    },
    {
      "cell_type": "code",
      "metadata": {
        "id": "83jl2Q5aZGqZ"
      },
      "source": [
        "!pip install foolbox"
      ],
      "execution_count": null,
      "outputs": []
    },
    {
      "cell_type": "code",
      "metadata": {
        "colab": {
          "base_uri": "https://localhost:8080/"
        },
        "id": "Hps7vq8j9SWf",
        "outputId": "cd3b91b9-9c3c-4a8e-d6db-70d00d69f8f4"
      },
      "source": [
        "%cd torchdiffeq/"
      ],
      "execution_count": 2,
      "outputs": [
        {
          "output_type": "stream",
          "name": "stdout",
          "text": [
            "/content/torchdiffeq\n"
          ]
        }
      ]
    },
    {
      "cell_type": "code",
      "metadata": {
        "id": "Am1cGIpnwOae"
      },
      "source": [
        "import os\n",
        "import argparse\n",
        "import logging\n",
        "import time\n",
        "import numpy as np\n",
        "import torch\n",
        "import torch.nn as nn\n",
        "from torch.utils.data import DataLoader\n",
        "import torchvision.datasets as datasets\n",
        "import torchvision.transforms as transforms\n",
        "import torch.optim as optim\n",
        "import torch.nn.functional as F\n",
        "from torch.optim.lr_scheduler import StepLR, MultiStepLR\n",
        "\n",
        "import sys\n",
        "sys.argv = ['']\n",
        "\n",
        "parser = argparse.ArgumentParser()\n",
        "parser.add_argument('--ode', action='store_true', default=True,\n",
        "                    help='Train NeutralODE model or Resnet model')\n",
        "parser.add_argument('--tol', type=float, default=1e-3)\n",
        "parser.add_argument('--adjoint', type=eval, default=False, choices=[True, False])\n",
        "parser.add_argument('--downsampling-method', type=str, default='conv', choices=['conv', 'res'])\n",
        "parser.add_argument('--nepochs', type=int, default=160)\n",
        "parser.add_argument('--data_aug', type=eval, default=True, choices=[True, False])\n",
        "parser.add_argument('--lr', type=float, default=0.1)\n",
        "parser.add_argument('--batch_size', type=int, default=128)\n",
        "parser.add_argument('--test_batch_size', type=int, default=128)\n",
        "parser.add_argument('--seed', type=int, default=1)\n",
        "parser.add_argument('--gamma', type=float, default=0.7, metavar='M',\n",
        "                    help='Learning rate step gamma (default: 0.7)')\n",
        "\n",
        "parser.add_argument('--save-model', action='store_true', default=False,\n",
        "                    help='For Saving the current Model')\n",
        "parser.add_argument('--debug', action='store_true')\n",
        "parser.add_argument('--log-interval', type=int, default=10, metavar='N',\n",
        "                    help='how many batches to wait before logging training status')\n",
        "parser.add_argument('--gpu', type=int, default=0)\n",
        "args = parser.parse_args()\n",
        "\n",
        "if args.adjoint:\n",
        "    from torchdiffeq import odeint_adjoint as odeint\n",
        "else:\n",
        "    from torchdiffeq import odeint\n",
        "\n",
        "\n",
        "class ODEfunc(nn.Module):\n",
        "    def __init__(self, dim):\n",
        "        super(ODEfunc, self).__init__()\n",
        "        self.ff = nn.Linear(dim, dim)\n",
        "        self.relu = nn.ReLU(inplace=True)\n",
        "        self.nfe = 0\n",
        "\n",
        "    def forward(self, t, x):\n",
        "        self.nfe += 1\n",
        "        out = self.ff(x)\n",
        "        out = self.relu(out)\n",
        "        return out\n",
        "\n",
        "\n",
        "class ODEBlock(nn.Module):\n",
        "\n",
        "    def __init__(self, odefunc, T=1):\n",
        "        super(ODEBlock, self).__init__()\n",
        "        self.odefunc = odefunc\n",
        "        self.integration_time = torch.tensor([0, T]).float()\n",
        "        self.step_size = T*1.0/100\n",
        "\n",
        "    def forward(self, x):\n",
        "        self.integration_time = self.integration_time.type_as(x)\n",
        "        # out = odeint(self.odefunc, x, self.integration_time, method='euler', rtol=args.tol, atol=args.tol, options={'step_size':self.step_size})\n",
        "        out = odeint(self.odefunc, x, self.integration_time, method='dopri5', rtol=args.tol, atol=args.tol)\n",
        "        return out[1]\n",
        "\n",
        "    @property\n",
        "    def nfe(self):\n",
        "        return self.odefunc.nfe\n",
        "\n",
        "    @nfe.setter\n",
        "    def nfe(self, value):\n",
        "        self.odefunc.nfe = value\n",
        "\n",
        "\n",
        "class Flatten(nn.Module):\n",
        "\n",
        "    def __init__(self):\n",
        "        super(Flatten, self).__init__()\n",
        "\n",
        "    def forward(self, x):\n",
        "        shape = torch.prod(torch.tensor(x.shape[1:])).item()\n",
        "        return x.view(-1, shape)\n",
        "\n",
        "class Net(nn.Module):\n",
        "    def __init__(self, ode=True, size=100):\n",
        "        super(Net, self).__init__()\n",
        "        # downsampling_layers = [\n",
        "        # ]\n",
        "        # feature_layers = [\n",
        "        #     Flatten(), \n",
        "        #     ODEBlock(ODEfunc(28*28), T=1)\n",
        "        # ]\n",
        "        # fc_layers = [\n",
        "        #     Flatten(), \n",
        "        #     nn.Linear(28*28, 10)\n",
        "        # ]\n",
        "        downsampling_layers = [\n",
        "            Flatten(),\n",
        "            nn.Linear(28*28, size),\n",
        "            nn.ReLU(inplace=True)\n",
        "        ]\n",
        "        feature_layers = [\n",
        "            Flatten(), \n",
        "            ODEBlock(ODEfunc(size), T=1)\n",
        "        ]\n",
        "        fc_layers = [\n",
        "            Flatten(), \n",
        "            nn.Linear(size, 10)\n",
        "        ]\n",
        "        # downsampling_layers = [\n",
        "        #     nn.Conv2d(1, 1, 4, 2, 1),\n",
        "        #     nn.ReLU(inplace=True),\n",
        "        # ]\n",
        "        # feature_layers = [\n",
        "        #     Flatten(), \n",
        "        #     ODEBlock(ODEfunc(14*14), T=10)\n",
        "        # ]\n",
        "        # fc_layers = [\n",
        "        #     Flatten(), \n",
        "        #     nn.Linear(14*14, 10)\n",
        "        # ]\n",
        "        self.model = nn.Sequential(*downsampling_layers, *feature_layers, *fc_layers)\n",
        "\n",
        "    def forward(self, x):\n",
        "        x = self.model(x)\n",
        "        out = F.log_softmax(x, dim=1)\n",
        "        return out\n",
        "\n",
        "\n",
        "def train(args, model, device, train_loader, optimizer, epoch):\n",
        "    model.train()\n",
        "    for batch_idx, (data, target) in enumerate(train_loader):\n",
        "        data, target = data.to(device), target.to(device)\n",
        "        optimizer.zero_grad()\n",
        "        output = model(data)\n",
        "        loss = F.nll_loss(output, target)\n",
        "        loss.backward()\n",
        "        optimizer.step()\n",
        "        if batch_idx % args.log_interval == 0:\n",
        "            print('Train Epoch: {} [{}/{} ({:.0f}%)]\\tLoss: {:.6f}'.format(\n",
        "                epoch, batch_idx * len(data), len(train_loader.dataset),\n",
        "                100. * batch_idx / len(train_loader), loss.item()))\n",
        "\n",
        "\n",
        "def test(args, model, device, test_loader):\n",
        "    model.eval()\n",
        "    test_loss = 0\n",
        "    correct = 0\n",
        "    with torch.no_grad():\n",
        "        for data, target in test_loader:\n",
        "            data, target = data.to(device), target.to(device)\n",
        "            output = model(data)\n",
        "            test_loss += F.nll_loss(output, target, reduction='sum').item()  # sum up batch loss\n",
        "            pred = output.argmax(dim=1, keepdim=True)  # get the index of the max log-probability\n",
        "            correct += pred.eq(target.view_as(pred)).sum().item()\n",
        "\n",
        "    test_loss /= len(test_loader.dataset)\n",
        "\n",
        "    print('\\nTest set: Average loss: {:.4f}, Accuracy: {}/{} ({:.0f}%)\\n'.format(\n",
        "        test_loss, correct, len(test_loader.dataset),\n",
        "        100. * correct / len(test_loader.dataset)))"
      ],
      "execution_count": 27,
      "outputs": []
    },
    {
      "cell_type": "code",
      "metadata": {
        "id": "mb7w0WR7-H5Y",
        "colab": {
          "base_uri": "https://localhost:8080/"
        },
        "outputId": "e112ac5e-bc36-410c-af50-e45446b4c2cd"
      },
      "source": [
        "use_cuda = True\n",
        "torch.manual_seed(args.seed)\n",
        "\n",
        "\n",
        "args.epochs = 20\n",
        "\n",
        "\n",
        "device = torch.device(\"cuda\" if use_cuda else \"cpu\")\n",
        "\n",
        "kwargs = {'num_workers': 1, 'pin_memory': True} if use_cuda else {}\n",
        "\n",
        "train_whole = datasets.MNIST('../data', train=True, download=True,\n",
        "                    transform=transforms.Compose([\n",
        "                        transforms.ToTensor(),\n",
        "                    ]))\n",
        "test_whole = datasets.MNIST('../data', train=False, transform=transforms.Compose([\n",
        "                        transforms.ToTensor(),\n",
        "                    ]))\n",
        "\n",
        "train_dataset = torch.utils.data.Subset(train_whole, range(512))\n",
        "test_dataset = torch.utils.data.Subset(test_whole, range(128))\n",
        "\n",
        "sizes = [100, 300, 1000, 3000, 10000]\n",
        "accuracies = []\n",
        "for size in sizes:\n",
        "  train_loader = torch.utils.data.DataLoader(\n",
        "      train_dataset,\n",
        "      batch_size=args.batch_size, shuffle=True, **kwargs)\n",
        "  test_loader = torch.utils.data.DataLoader(\n",
        "      test_dataset,\n",
        "      batch_size=args.test_batch_size, shuffle=True, **kwargs)\n",
        "\n",
        "  model = Net(args.ode).to(device)\n",
        "\n",
        "  optimizer = torch.optim.SGD(model.parameters(), lr=args.lr, momentum=0.9)\n",
        "  scheduler = StepLR(optimizer, step_size=1, gamma=args.gamma)\n",
        "\n",
        "  for epoch in range(1, args.epochs + 1):\n",
        "      train(args, model, device, train_loader, optimizer, epoch)\n",
        "      test(args, model, device, test_loader)\n",
        "      scheduler.step()\n",
        "\n",
        "  test_example_data, test_example_labels = next(iter(test_loader))\n",
        "  test_example_data, test_example_labels = test_example_data.cuda(), test_example_labels.cuda()\n",
        "\n",
        "  test_example_data, test_example_labels = test_example_data[:200], test_example_labels[:200]\n",
        "\n",
        "  fmodel = fb.PyTorchModel(model, bounds=(0, 1))\n",
        "\n",
        "  attack = fb.attacks.L2CarliniWagnerAttack(steps=500)\n",
        "  epsilons = [0.3]\n",
        "  _, advs, success = attack(fmodel, test_example_data, test_example_labels, epsilons=epsilons)\n",
        "\n",
        "  accuracy = 1 - torch.mean(success.float())\n",
        "  accuracies.append(accuracy)"
      ],
      "execution_count": 33,
      "outputs": [
        {
          "output_type": "stream",
          "name": "stdout",
          "text": [
            "Train Epoch: 1 [0/512 (0%)]\tLoss: 2.301023\n",
            "\n",
            "Test set: Average loss: 2.1148, Accuracy: 75/128 (59%)\n",
            "\n",
            "Train Epoch: 2 [0/512 (0%)]\tLoss: 2.089697\n",
            "\n",
            "Test set: Average loss: 1.7803, Accuracy: 82/128 (64%)\n",
            "\n",
            "Train Epoch: 3 [0/512 (0%)]\tLoss: 1.675440\n",
            "\n",
            "Test set: Average loss: 1.3618, Accuracy: 84/128 (66%)\n",
            "\n",
            "Train Epoch: 4 [0/512 (0%)]\tLoss: 1.224661\n",
            "\n",
            "Test set: Average loss: 1.0785, Accuracy: 89/128 (70%)\n",
            "\n",
            "Train Epoch: 5 [0/512 (0%)]\tLoss: 0.903499\n",
            "\n",
            "Test set: Average loss: 0.9343, Accuracy: 90/128 (70%)\n",
            "\n",
            "Train Epoch: 6 [0/512 (0%)]\tLoss: 0.792705\n",
            "\n",
            "Test set: Average loss: 0.8259, Accuracy: 94/128 (73%)\n",
            "\n",
            "Train Epoch: 7 [0/512 (0%)]\tLoss: 0.699889\n",
            "\n",
            "Test set: Average loss: 0.7734, Accuracy: 94/128 (73%)\n",
            "\n",
            "Train Epoch: 8 [0/512 (0%)]\tLoss: 0.516630\n",
            "\n",
            "Test set: Average loss: 0.7440, Accuracy: 96/128 (75%)\n",
            "\n",
            "Train Epoch: 9 [0/512 (0%)]\tLoss: 0.456157\n",
            "\n",
            "Test set: Average loss: 0.7336, Accuracy: 96/128 (75%)\n",
            "\n",
            "Train Epoch: 10 [0/512 (0%)]\tLoss: 0.466372\n",
            "\n",
            "Test set: Average loss: 0.7196, Accuracy: 99/128 (77%)\n",
            "\n",
            "Train Epoch: 11 [0/512 (0%)]\tLoss: 0.567036\n",
            "\n",
            "Test set: Average loss: 0.7107, Accuracy: 98/128 (77%)\n",
            "\n",
            "Train Epoch: 12 [0/512 (0%)]\tLoss: 0.499567\n",
            "\n",
            "Test set: Average loss: 0.7045, Accuracy: 98/128 (77%)\n",
            "\n",
            "Train Epoch: 13 [0/512 (0%)]\tLoss: 0.475765\n",
            "\n",
            "Test set: Average loss: 0.6998, Accuracy: 98/128 (77%)\n",
            "\n",
            "Train Epoch: 14 [0/512 (0%)]\tLoss: 0.557409\n",
            "\n",
            "Test set: Average loss: 0.6967, Accuracy: 98/128 (77%)\n",
            "\n",
            "Train Epoch: 15 [0/512 (0%)]\tLoss: 0.471546\n",
            "\n",
            "Test set: Average loss: 0.6951, Accuracy: 99/128 (77%)\n",
            "\n",
            "Train Epoch: 16 [0/512 (0%)]\tLoss: 0.458066\n",
            "\n",
            "Test set: Average loss: 0.6940, Accuracy: 99/128 (77%)\n",
            "\n",
            "Train Epoch: 17 [0/512 (0%)]\tLoss: 0.418681\n",
            "\n",
            "Test set: Average loss: 0.6934, Accuracy: 99/128 (77%)\n",
            "\n",
            "Train Epoch: 18 [0/512 (0%)]\tLoss: 0.425597\n",
            "\n",
            "Test set: Average loss: 0.6927, Accuracy: 99/128 (77%)\n",
            "\n",
            "Train Epoch: 19 [0/512 (0%)]\tLoss: 0.405485\n",
            "\n",
            "Test set: Average loss: 0.6924, Accuracy: 99/128 (77%)\n",
            "\n",
            "Train Epoch: 20 [0/512 (0%)]\tLoss: 0.372948\n",
            "\n",
            "Test set: Average loss: 0.6921, Accuracy: 99/128 (77%)\n",
            "\n",
            "Train Epoch: 1 [0/512 (0%)]\tLoss: 2.315686\n",
            "\n",
            "Test set: Average loss: 2.1748, Accuracy: 28/128 (22%)\n",
            "\n",
            "Train Epoch: 2 [0/512 (0%)]\tLoss: 2.108446\n",
            "\n",
            "Test set: Average loss: 1.8777, Accuracy: 67/128 (52%)\n",
            "\n",
            "Train Epoch: 3 [0/512 (0%)]\tLoss: 1.747219\n",
            "\n",
            "Test set: Average loss: 1.4390, Accuracy: 88/128 (69%)\n",
            "\n",
            "Train Epoch: 4 [0/512 (0%)]\tLoss: 1.286049\n",
            "\n",
            "Test set: Average loss: 1.1237, Accuracy: 91/128 (71%)\n",
            "\n",
            "Train Epoch: 5 [0/512 (0%)]\tLoss: 0.908012\n",
            "\n",
            "Test set: Average loss: 0.9364, Accuracy: 94/128 (73%)\n",
            "\n",
            "Train Epoch: 6 [0/512 (0%)]\tLoss: 0.648262\n",
            "\n",
            "Test set: Average loss: 0.8306, Accuracy: 94/128 (73%)\n",
            "\n",
            "Train Epoch: 7 [0/512 (0%)]\tLoss: 0.612232\n",
            "\n",
            "Test set: Average loss: 0.7821, Accuracy: 93/128 (73%)\n",
            "\n",
            "Train Epoch: 8 [0/512 (0%)]\tLoss: 0.474412\n",
            "\n",
            "Test set: Average loss: 0.7574, Accuracy: 94/128 (73%)\n",
            "\n",
            "Train Epoch: 9 [0/512 (0%)]\tLoss: 0.498376\n",
            "\n",
            "Test set: Average loss: 0.7367, Accuracy: 95/128 (74%)\n",
            "\n",
            "Train Epoch: 10 [0/512 (0%)]\tLoss: 0.501376\n",
            "\n",
            "Test set: Average loss: 0.7233, Accuracy: 95/128 (74%)\n",
            "\n",
            "Train Epoch: 11 [0/512 (0%)]\tLoss: 0.489478\n",
            "\n",
            "Test set: Average loss: 0.7129, Accuracy: 95/128 (74%)\n",
            "\n",
            "Train Epoch: 12 [0/512 (0%)]\tLoss: 0.451422\n",
            "\n",
            "Test set: Average loss: 0.7076, Accuracy: 98/128 (77%)\n",
            "\n",
            "Train Epoch: 13 [0/512 (0%)]\tLoss: 0.496252\n",
            "\n",
            "Test set: Average loss: 0.7043, Accuracy: 98/128 (77%)\n",
            "\n",
            "Train Epoch: 14 [0/512 (0%)]\tLoss: 0.459140\n",
            "\n",
            "Test set: Average loss: 0.7021, Accuracy: 98/128 (77%)\n",
            "\n",
            "Train Epoch: 15 [0/512 (0%)]\tLoss: 0.520223\n",
            "\n",
            "Test set: Average loss: 0.7006, Accuracy: 98/128 (77%)\n",
            "\n",
            "Train Epoch: 16 [0/512 (0%)]\tLoss: 0.591749\n",
            "\n",
            "Test set: Average loss: 0.6993, Accuracy: 98/128 (77%)\n",
            "\n",
            "Train Epoch: 17 [0/512 (0%)]\tLoss: 0.568389\n",
            "\n",
            "Test set: Average loss: 0.6986, Accuracy: 98/128 (77%)\n",
            "\n",
            "Train Epoch: 18 [0/512 (0%)]\tLoss: 0.424807\n",
            "\n",
            "Test set: Average loss: 0.6980, Accuracy: 98/128 (77%)\n",
            "\n",
            "Train Epoch: 19 [0/512 (0%)]\tLoss: 0.399033\n",
            "\n",
            "Test set: Average loss: 0.6977, Accuracy: 98/128 (77%)\n",
            "\n",
            "Train Epoch: 20 [0/512 (0%)]\tLoss: 0.433791\n",
            "\n",
            "Test set: Average loss: 0.6974, Accuracy: 98/128 (77%)\n",
            "\n",
            "Train Epoch: 1 [0/512 (0%)]\tLoss: 2.294991\n",
            "\n",
            "Test set: Average loss: 2.0957, Accuracy: 62/128 (48%)\n",
            "\n",
            "Train Epoch: 2 [0/512 (0%)]\tLoss: 2.072098\n",
            "\n",
            "Test set: Average loss: 1.7253, Accuracy: 81/128 (63%)\n",
            "\n",
            "Train Epoch: 3 [0/512 (0%)]\tLoss: 1.609389\n",
            "\n",
            "Test set: Average loss: 1.3019, Accuracy: 82/128 (64%)\n",
            "\n",
            "Train Epoch: 4 [0/512 (0%)]\tLoss: 1.183258\n",
            "\n",
            "Test set: Average loss: 1.0383, Accuracy: 89/128 (70%)\n",
            "\n",
            "Train Epoch: 5 [0/512 (0%)]\tLoss: 0.870803\n",
            "\n",
            "Test set: Average loss: 0.8845, Accuracy: 90/128 (70%)\n",
            "\n",
            "Train Epoch: 6 [0/512 (0%)]\tLoss: 0.658948\n",
            "\n",
            "Test set: Average loss: 0.7890, Accuracy: 93/128 (73%)\n",
            "\n",
            "Train Epoch: 7 [0/512 (0%)]\tLoss: 0.583891\n",
            "\n",
            "Test set: Average loss: 0.7475, Accuracy: 93/128 (73%)\n",
            "\n",
            "Train Epoch: 8 [0/512 (0%)]\tLoss: 0.502017\n",
            "\n",
            "Test set: Average loss: 0.7239, Accuracy: 96/128 (75%)\n",
            "\n",
            "Train Epoch: 9 [0/512 (0%)]\tLoss: 0.546513\n",
            "\n",
            "Test set: Average loss: 0.7082, Accuracy: 95/128 (74%)\n",
            "\n",
            "Train Epoch: 10 [0/512 (0%)]\tLoss: 0.451638\n",
            "\n",
            "Test set: Average loss: 0.6952, Accuracy: 98/128 (77%)\n",
            "\n",
            "Train Epoch: 11 [0/512 (0%)]\tLoss: 0.448385\n",
            "\n",
            "Test set: Average loss: 0.6868, Accuracy: 99/128 (77%)\n",
            "\n",
            "Train Epoch: 12 [0/512 (0%)]\tLoss: 0.508900\n",
            "\n",
            "Test set: Average loss: 0.6811, Accuracy: 100/128 (78%)\n",
            "\n",
            "Train Epoch: 13 [0/512 (0%)]\tLoss: 0.459562\n",
            "\n",
            "Test set: Average loss: 0.6775, Accuracy: 98/128 (77%)\n",
            "\n",
            "Train Epoch: 14 [0/512 (0%)]\tLoss: 0.389754\n",
            "\n",
            "Test set: Average loss: 0.6749, Accuracy: 98/128 (77%)\n",
            "\n",
            "Train Epoch: 15 [0/512 (0%)]\tLoss: 0.333876\n",
            "\n",
            "Test set: Average loss: 0.6732, Accuracy: 98/128 (77%)\n",
            "\n",
            "Train Epoch: 16 [0/512 (0%)]\tLoss: 0.450205\n",
            "\n",
            "Test set: Average loss: 0.6724, Accuracy: 98/128 (77%)\n",
            "\n",
            "Train Epoch: 17 [0/512 (0%)]\tLoss: 0.452832\n",
            "\n",
            "Test set: Average loss: 0.6717, Accuracy: 98/128 (77%)\n",
            "\n",
            "Train Epoch: 18 [0/512 (0%)]\tLoss: 0.454020\n",
            "\n",
            "Test set: Average loss: 0.6711, Accuracy: 98/128 (77%)\n",
            "\n",
            "Train Epoch: 19 [0/512 (0%)]\tLoss: 0.519880\n",
            "\n",
            "Test set: Average loss: 0.6708, Accuracy: 98/128 (77%)\n",
            "\n",
            "Train Epoch: 20 [0/512 (0%)]\tLoss: 0.341509\n",
            "\n",
            "Test set: Average loss: 0.6705, Accuracy: 98/128 (77%)\n",
            "\n",
            "Train Epoch: 1 [0/512 (0%)]\tLoss: 2.298100\n",
            "\n",
            "Test set: Average loss: 2.1204, Accuracy: 65/128 (51%)\n",
            "\n",
            "Train Epoch: 2 [0/512 (0%)]\tLoss: 2.098437\n",
            "\n",
            "Test set: Average loss: 1.7812, Accuracy: 83/128 (65%)\n",
            "\n",
            "Train Epoch: 3 [0/512 (0%)]\tLoss: 1.649966\n",
            "\n",
            "Test set: Average loss: 1.3748, Accuracy: 87/128 (68%)\n",
            "\n",
            "Train Epoch: 4 [0/512 (0%)]\tLoss: 1.217270\n",
            "\n",
            "Test set: Average loss: 1.0907, Accuracy: 89/128 (70%)\n",
            "\n",
            "Train Epoch: 5 [0/512 (0%)]\tLoss: 0.886080\n",
            "\n",
            "Test set: Average loss: 0.9264, Accuracy: 90/128 (70%)\n",
            "\n",
            "Train Epoch: 6 [0/512 (0%)]\tLoss: 0.716745\n",
            "\n",
            "Test set: Average loss: 0.8423, Accuracy: 92/128 (72%)\n",
            "\n",
            "Train Epoch: 7 [0/512 (0%)]\tLoss: 0.638403\n",
            "\n",
            "Test set: Average loss: 0.7968, Accuracy: 92/128 (72%)\n",
            "\n",
            "Train Epoch: 8 [0/512 (0%)]\tLoss: 0.588860\n",
            "\n",
            "Test set: Average loss: 0.7699, Accuracy: 91/128 (71%)\n",
            "\n",
            "Train Epoch: 9 [0/512 (0%)]\tLoss: 0.468904\n",
            "\n",
            "Test set: Average loss: 0.7554, Accuracy: 91/128 (71%)\n",
            "\n",
            "Train Epoch: 10 [0/512 (0%)]\tLoss: 0.412784\n",
            "\n",
            "Test set: Average loss: 0.7468, Accuracy: 90/128 (70%)\n",
            "\n",
            "Train Epoch: 11 [0/512 (0%)]\tLoss: 0.587342\n",
            "\n",
            "Test set: Average loss: 0.7384, Accuracy: 91/128 (71%)\n",
            "\n",
            "Train Epoch: 12 [0/512 (0%)]\tLoss: 0.452667\n",
            "\n",
            "Test set: Average loss: 0.7330, Accuracy: 93/128 (73%)\n",
            "\n",
            "Train Epoch: 13 [0/512 (0%)]\tLoss: 0.537769\n",
            "\n",
            "Test set: Average loss: 0.7297, Accuracy: 93/128 (73%)\n",
            "\n",
            "Train Epoch: 14 [0/512 (0%)]\tLoss: 0.366870\n",
            "\n",
            "Test set: Average loss: 0.7276, Accuracy: 93/128 (73%)\n",
            "\n",
            "Train Epoch: 15 [0/512 (0%)]\tLoss: 0.474677\n",
            "\n",
            "Test set: Average loss: 0.7264, Accuracy: 93/128 (73%)\n",
            "\n",
            "Train Epoch: 16 [0/512 (0%)]\tLoss: 0.421549\n",
            "\n",
            "Test set: Average loss: 0.7253, Accuracy: 93/128 (73%)\n",
            "\n",
            "Train Epoch: 17 [0/512 (0%)]\tLoss: 0.522549\n",
            "\n",
            "Test set: Average loss: 0.7246, Accuracy: 93/128 (73%)\n",
            "\n",
            "Train Epoch: 18 [0/512 (0%)]\tLoss: 0.472868\n",
            "\n",
            "Test set: Average loss: 0.7241, Accuracy: 93/128 (73%)\n",
            "\n",
            "Train Epoch: 19 [0/512 (0%)]\tLoss: 0.515118\n",
            "\n",
            "Test set: Average loss: 0.7238, Accuracy: 93/128 (73%)\n",
            "\n",
            "Train Epoch: 20 [0/512 (0%)]\tLoss: 0.421536\n",
            "\n",
            "Test set: Average loss: 0.7235, Accuracy: 93/128 (73%)\n",
            "\n",
            "Train Epoch: 1 [0/512 (0%)]\tLoss: 2.325306\n",
            "\n",
            "Test set: Average loss: 2.1887, Accuracy: 49/128 (38%)\n",
            "\n",
            "Train Epoch: 2 [0/512 (0%)]\tLoss: 2.129876\n",
            "\n",
            "Test set: Average loss: 1.9328, Accuracy: 67/128 (52%)\n",
            "\n",
            "Train Epoch: 3 [0/512 (0%)]\tLoss: 1.718359\n",
            "\n",
            "Test set: Average loss: 1.5424, Accuracy: 80/128 (62%)\n",
            "\n",
            "Train Epoch: 4 [0/512 (0%)]\tLoss: 1.353819\n",
            "\n",
            "Test set: Average loss: 1.2012, Accuracy: 89/128 (70%)\n",
            "\n",
            "Train Epoch: 5 [0/512 (0%)]\tLoss: 1.023971\n",
            "\n",
            "Test set: Average loss: 0.9952, Accuracy: 95/128 (74%)\n",
            "\n",
            "Train Epoch: 6 [0/512 (0%)]\tLoss: 0.810479\n",
            "\n",
            "Test set: Average loss: 0.8659, Accuracy: 92/128 (72%)\n",
            "\n",
            "Train Epoch: 7 [0/512 (0%)]\tLoss: 0.574091\n",
            "\n",
            "Test set: Average loss: 0.7986, Accuracy: 94/128 (73%)\n",
            "\n",
            "Train Epoch: 8 [0/512 (0%)]\tLoss: 0.570039\n",
            "\n",
            "Test set: Average loss: 0.7662, Accuracy: 96/128 (75%)\n",
            "\n",
            "Train Epoch: 9 [0/512 (0%)]\tLoss: 0.618583\n",
            "\n",
            "Test set: Average loss: 0.7457, Accuracy: 97/128 (76%)\n",
            "\n",
            "Train Epoch: 10 [0/512 (0%)]\tLoss: 0.446711\n",
            "\n",
            "Test set: Average loss: 0.7296, Accuracy: 96/128 (75%)\n",
            "\n",
            "Train Epoch: 11 [0/512 (0%)]\tLoss: 0.606104\n",
            "\n",
            "Test set: Average loss: 0.7185, Accuracy: 96/128 (75%)\n",
            "\n",
            "Train Epoch: 12 [0/512 (0%)]\tLoss: 0.515067\n",
            "\n",
            "Test set: Average loss: 0.7105, Accuracy: 97/128 (76%)\n",
            "\n",
            "Train Epoch: 13 [0/512 (0%)]\tLoss: 0.505255\n",
            "\n",
            "Test set: Average loss: 0.7055, Accuracy: 97/128 (76%)\n",
            "\n",
            "Train Epoch: 14 [0/512 (0%)]\tLoss: 0.434427\n",
            "\n",
            "Test set: Average loss: 0.7024, Accuracy: 97/128 (76%)\n",
            "\n",
            "Train Epoch: 15 [0/512 (0%)]\tLoss: 0.435548\n",
            "\n",
            "Test set: Average loss: 0.7007, Accuracy: 97/128 (76%)\n",
            "\n",
            "Train Epoch: 16 [0/512 (0%)]\tLoss: 0.414527\n",
            "\n",
            "Test set: Average loss: 0.6995, Accuracy: 98/128 (77%)\n",
            "\n",
            "Train Epoch: 17 [0/512 (0%)]\tLoss: 0.493733\n",
            "\n",
            "Test set: Average loss: 0.6987, Accuracy: 98/128 (77%)\n",
            "\n",
            "Train Epoch: 18 [0/512 (0%)]\tLoss: 0.488647\n",
            "\n",
            "Test set: Average loss: 0.6981, Accuracy: 98/128 (77%)\n",
            "\n",
            "Train Epoch: 19 [0/512 (0%)]\tLoss: 0.411480\n",
            "\n",
            "Test set: Average loss: 0.6977, Accuracy: 98/128 (77%)\n",
            "\n",
            "Train Epoch: 20 [0/512 (0%)]\tLoss: 0.492502\n",
            "\n",
            "Test set: Average loss: 0.6974, Accuracy: 98/128 (77%)\n",
            "\n"
          ]
        }
      ]
    },
    {
      "cell_type": "code",
      "metadata": {
        "colab": {
          "base_uri": "https://localhost:8080/",
          "height": 279
        },
        "id": "FQBNDWz6a03N",
        "outputId": "6d216814-4313-4e6b-9e74-02adb58a4408"
      },
      "source": [
        "import matplotlib.pyplot as plt\n",
        "\n",
        "plt.plot(sizes, accuracies)\n",
        "plt.xlabel(\"NODE size\")\n",
        "plt.ylabel(\"CW accuray\")\n",
        "plt.show()"
      ],
      "execution_count": 34,
      "outputs": [
        {
          "output_type": "display_data",
          "data": {
            "image/png": "[encoded data removed]",
            "text/plain": [
              "<Figure size 432x288 with 1 Axes>"
            ]
          },
          "metadata": {
            "needs_background": "light"
          }
        }
      ]
    },
    {
      "cell_type": "code",
      "metadata": {
        "colab": {
          "base_uri": "https://localhost:8080/"
        },
        "id": "UcQJql-uivLJ",
        "outputId": "228b8294-2fdb-41cd-a64c-f52e47a8aa02"
      },
      "source": [
        "[float(x.cpu().numpy()) for x in accuracies]"
      ],
      "execution_count": 41,
      "outputs": [
        {
          "output_type": "execute_result",
          "data": {
            "text/plain": [
              "[0.6640625, 0.7109375, 0.6953125, 0.671875, 0.7109375]"
            ]
          },
          "metadata": {},
          "execution_count": 41
        }
      ]
    },
    {
      "cell_type": "markdown",
      "metadata": {
        "id": "Ztl3T1LEPssR"
      },
      "source": [
        "### CW Attack\n"
      ]
    },
    {
      "cell_type": "code",
      "metadata": {
        "id": "dboC2KkmVYkI"
      },
      "source": [
        "import foolbox as fb\n",
        "\n",
        "test_example_data, test_example_labels = next(iter(test_loader))\n",
        "test_example_data, test_example_labels = test_example_data.cuda(), test_example_labels.cuda()\n",
        "\n",
        "test_example_data, test_example_labels = test_example_data[:10], test_example_labels[:10]\n",
        "\n",
        "fmodel = fb.PyTorchModel(model, bounds=(0, 1))\n",
        "\n",
        "attack = fb.attacks.L2CarliniWagnerAttack(steps=100)\n",
        "epsilons = [0.1]\n",
        "_, advs, success = attack(fmodel, test_example_data, test_example_labels, epsilons=epsilons)"
      ],
      "execution_count": 19,
      "outputs": []
    },
    {
      "cell_type": "code",
      "metadata": {
        "colab": {
          "base_uri": "https://localhost:8080/"
        },
        "id": "YgkzAwZAX981",
        "outputId": "a2bb82b8-5a82-41fe-906b-5af866971ad0"
      },
      "source": [
        "accuracy = 1 - torch.mean(success.float())"
      ],
      "execution_count": 20,
      "outputs": [
        {
          "output_type": "execute_result",
          "data": {
            "text/plain": [
              "tensor(0.6000, device='cuda:0')"
            ]
          },
          "metadata": {},
          "execution_count": 20
        }
      ]
    },
    {
      "cell_type": "markdown",
      "metadata": {
        "id": "gn8AT4bxPkF1"
      },
      "source": [
        "### FGSM Attack"
      ]
    },
    {
      "cell_type": "code",
      "metadata": {
        "id": "Ekqo_sPH-aau"
      },
      "source": [
        "test_example_data, test_example_labels = next(iter(test_loader))\n",
        "test_example_data, test_example_labels = test_example_data.cuda(), test_example_labels.cuda()\n",
        "\n",
        "test_example_data.requires_grad = True\n",
        "\n",
        "output = model(test_example_data)\n",
        "loss = F.nll_loss(output, test_example_labels)\n",
        "loss.backward()"
      ],
      "execution_count": 71,
      "outputs": []
    },
    {
      "cell_type": "code",
      "metadata": {
        "id": "dxLH4Fwx-dHA",
        "colab": {
          "base_uri": "https://localhost:8080/"
        },
        "outputId": "89cf50f2-b3ac-4d9e-fc9d-380564890261"
      },
      "source": [
        "eps = 0.0001\n",
        "test_attack_images = test_example_data + eps*test_example_data.grad.sign()\n",
        "test_attack_images = torch.clamp(test_attack_images, 0, 1)\n",
        "\n",
        "adv_output = model(test_attack_images)\n",
        "adv_pred = adv_output.argmax(dim=1, keepdim=True)  # get the index of the max log-probability\n",
        "correct = adv_pred.eq(test_example_labels.view_as(adv_pred)).sum().item()\n",
        "print(correct / adv_output.shape[0])"
      ],
      "execution_count": 76,
      "outputs": [
        {
          "output_type": "stream",
          "name": "stdout",
          "text": [
            "0.84375\n"
          ]
        }
      ]
    },
    {
      "cell_type": "code",
      "metadata": {
        "colab": {
          "base_uri": "https://localhost:8080/",
          "height": 283
        },
        "id": "flz70KHu-hYs",
        "outputId": "f8d1b8cc-8034-4425-ca01-f01dad04201a"
      },
      "source": [
        "plt.imshow(test_example_data[0][0].cpu().detach())"
      ],
      "execution_count": 51,
      "outputs": [
        {
          "output_type": "execute_result",
          "data": {
            "text/plain": [
              "<matplotlib.image.AxesImage at 0x7fd5a1143910>"
            ]
          },
          "metadata": {},
          "execution_count": 51
        },
        {
          "output_type": "display_data",
          "data": {
            "image/png": "[encoded data removed]",
            "text/plain": [
              "<Figure size 432x288 with 1 Axes>"
            ]
          },
          "metadata": {
            "needs_background": "light"
          }
        }
      ]
    },
    {
      "cell_type": "code",
      "metadata": {
        "colab": {
          "base_uri": "https://localhost:8080/",
          "height": 283
        },
        "id": "QF9cO1Bu-jpw",
        "outputId": "bbfad795-cca4-4ade-a1f9-8f3e610e15e2"
      },
      "source": [
        "import matplotlib.pyplot as plt\n",
        "\n",
        "plt.imshow(test_attack_images[0][0].cpu().detach())"
      ],
      "execution_count": 52,
      "outputs": [
        {
          "output_type": "execute_result",
          "data": {
            "text/plain": [
              "<matplotlib.image.AxesImage at 0x7fd5a10b3790>"
            ]
          },
          "metadata": {},
          "execution_count": 52
        },
        {
          "output_type": "display_data",
          "data": {
            "image/png": "[encoded data removed]",
            "text/plain": [
              "<Figure size 432x288 with 1 Axes>"
            ]
          },
          "metadata": {
            "needs_background": "light"
          }
        }
      ]
    },
    {
      "cell_type": "code",
      "metadata": {
        "colab": {
          "base_uri": "https://localhost:8080/",
          "height": 137
        },
        "id": "oLcZt1ipQASy",
        "outputId": "155ea71e-63e9-4e6c-dcae-3414a5bd28a2"
      },
      "source": [
        "eps = torch.tensor([0.0001, 0.001, 0.01, 0.1])\n",
        "images_to_show = test_example_data[:4]\n",
        "test_attack_images_to_show = images_to_show.cpu() + eps.reshape(-1, 1, 1, 1)*test_example_data.grad.cpu().sign()[:4]\n",
        "test_attack_images_to_show = torch.clamp(test_attack_images_to_show, 0, 1)\n",
        "import torchvision\n",
        "\n",
        "grid_img = torchvision.utils.make_grid(test_attack_images_to_show, nrow=4)\n",
        "plt.imshow(grid_img.permute(1, 2, 0), cmap='copper')\n",
        "plt.axis('off')"
      ],
      "execution_count": 56,
      "outputs": [
        {
          "output_type": "execute_result",
          "data": {
            "text/plain": [
              "(-0.5, 121.5, 31.5, -0.5)"
            ]
          },
          "metadata": {},
          "execution_count": 56
        },
        {
          "output_type": "display_data",
          "data": {
            "image/png": "[encoded data removed]",
            "text/plain": [
              "<Figure size 432x288 with 1 Axes>"
            ]
          },
          "metadata": {
            "needs_background": "light"
          }
        }
      ]
    },
    {
      "cell_type": "code",
      "metadata": {
        "colab": {
          "base_uri": "https://localhost:8080/",
          "height": 284
        },
        "id": "_kq6TTy2-kr6",
        "outputId": "c2ea88eb-5a28-4130-8d8e-0c4abc79dbb8"
      },
      "source": [
        "fig = plt.figure()\n",
        "for i in range(0, 3):\n",
        "  plt.subplot(3,2,2*i+1)\n",
        "  plt.tight_layout()\n",
        "  plt.imshow(test_example_data[i][0].detach(), cmap='gray', interpolation='none')\n",
        "  plt.title(\"Ground Truth: {}\".format(test_example_targets[i]))\n",
        "  plt.xticks([])\n",
        "  plt.yticks([])\n",
        "  plt.subplot(3,2,2*i+2)\n",
        "  plt.tight_layout()\n",
        "  plt.imshow(test_attack_images[i][0].detach(), cmap='gray', interpolation='none')\n",
        "  plt.title(\"Prediction: {}\".format(preds[i]))\n",
        "  plt.xticks([])\n",
        "  plt.yticks([])"
      ],
      "execution_count": null,
      "outputs": [
        {
          "output_type": "display_data",
          "data": {
            "image/png": "[encoded data removed]",
            "text/plain": [
              "<Figure size 432x288 with 6 Axes>"
            ]
          },
          "metadata": {}
        }
      ]
    }
  ]
}