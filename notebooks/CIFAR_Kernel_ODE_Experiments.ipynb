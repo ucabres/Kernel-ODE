{
  "nbformat": 4,
  "nbformat_minor": 0,
  "metadata": {
    "colab": {
      "name": "CIFAR_Kernel_ODE_Experiments.ipynb",
      "provenance": [],
      "collapsed_sections": [
        "E-6cd9fbL91g"
      ],
      "machine_shape": "hm"
    },
    "kernelspec": {
      "name": "python3",
      "display_name": "Python 3"
    },
    "language_info": {
      "name": "python"
    }
  },
  "cells": [
    {
      "cell_type": "code",
      "metadata": {
        "colab": {
          "base_uri": "https://localhost:8080/"
        },
        "id": "MouqFsYZ6o57",
        "outputId": "8c3ecf97-1201-4dc5-da19-1547594e4b2a"
      },
      "source": [
        "from pathlib import Path\n",
        "\n",
        "repo_url  = 'https://github.com/ucabres/Kernel-ODE'\n",
        "project_path        = Path('/').absolute() / 'content'\n",
        "kernelode_repo_path = project_path / 'KernelODEsAdversarial'\n",
        "\n",
        "# Create project folder if inexistant\n",
        "if not project_path.is_dir():\n",
        "    %mkdir \"{project_path}\"\n",
        "%cd \"{project_path}\"\n",
        "\n",
        "# Download repository\n",
        "!git config --global user.name \"ucabres\"\n",
        "!git config --global user.email \"ucabres@ucl.ac.uk\"\n",
        "if kernelode_repo_path.is_dir():\n",
        "    !git -C \"{kernelode_repo_path}\" fetch origin\n",
        "    !git -C \"{kernelode_repo_path}\" checkout origin/main -- *.py\n",
        "else:\n",
        "    print(\"Install repository\")\n",
        "    !git clone {repo_url}"
      ],
      "execution_count": null,
      "outputs": [
        {
          "output_type": "stream",
          "name": "stdout",
          "text": [
            "/content\n"
          ]
        }
      ]
    },
    {
      "cell_type": "code",
      "metadata": {
        "colab": {
          "base_uri": "https://localhost:8080/"
        },
        "id": "Hps7vq8j9SWf",
        "outputId": "7227a49a-2f32-4b3c-8450-106c1d79650a"
      },
      "source": [
        "%cd KernelODEsAdversarial/"
      ],
      "execution_count": null,
      "outputs": [
        {
          "output_type": "stream",
          "name": "stdout",
          "text": [
            "/content/KernelODEsAdversarial\n"
          ]
        }
      ]
    },
    {
      "cell_type": "code",
      "metadata": {
        "colab": {
          "base_uri": "https://localhost:8080/"
        },
        "id": "NH_j-7pZBt8P",
        "outputId": "0bb37e8f-b14c-42c2-b229-36f8487106fc"
      },
      "source": [
        "!git clone 'https://github.com/cambridge-mlg/cnn-gp'"
      ],
      "execution_count": null,
      "outputs": [
        {
          "output_type": "stream",
          "name": "stdout",
          "text": [
            "fatal: destination path 'cnn-gp' already exists and is not an empty directory.\n"
          ]
        }
      ]
    },
    {
      "cell_type": "code",
      "metadata": {
        "colab": {
          "base_uri": "https://localhost:8080/"
        },
        "id": "w3mHlNXnDM9G",
        "outputId": "7647e50c-7bbc-49e7-d536-54a05afd0abd"
      },
      "source": [
        "%cd cnn-gp\n",
        "%pip install -e .\n",
        "%cd .."
      ],
      "execution_count": null,
      "outputs": [
        {
          "output_type": "stream",
          "name": "stdout",
          "text": [
            "/content/KernelODEsAdversarial/cnn-gp\n",
            "Obtaining file:///content/KernelODEsAdversarial/cnn-gp\n",
            "Requirement already satisfied: numpy>=1.10.0 in /usr/local/lib/python3.7/dist-packages (from cnn-gp==0.1) (1.19.5)\n",
            "Requirement already satisfied: torch>=1.1.0 in /usr/local/lib/python3.7/dist-packages (from cnn-gp==0.1) (1.9.0+cu102)\n",
            "Requirement already satisfied: torchvision>=0.2.0 in /usr/local/lib/python3.7/dist-packages (from cnn-gp==0.1) (0.10.0+cu102)\n",
            "Requirement already satisfied: tqdm>=4.32 in /usr/local/lib/python3.7/dist-packages (from cnn-gp==0.1) (4.62.2)\n",
            "Requirement already satisfied: typing-extensions in /usr/local/lib/python3.7/dist-packages (from torch>=1.1.0->cnn-gp==0.1) (3.7.4.3)\n",
            "Requirement already satisfied: pillow>=5.3.0 in /usr/local/lib/python3.7/dist-packages (from torchvision>=0.2.0->cnn-gp==0.1) (7.1.2)\n",
            "Installing collected packages: cnn-gp\n",
            "  Attempting uninstall: cnn-gp\n",
            "    Found existing installation: cnn-gp 0.1\n",
            "    Can't uninstall 'cnn-gp'. No files were found to uninstall.\n",
            "  Running setup.py develop for cnn-gp\n",
            "Successfully installed cnn-gp-0.1\n",
            "/content/KernelODEsAdversarial\n"
          ]
        }
      ]
    },
    {
      "cell_type": "code",
      "metadata": {
        "colab": {
          "base_uri": "https://localhost:8080/"
        },
        "id": "8Ga1k_7r95y_",
        "outputId": "85835a62-0894-44fa-d9fd-91a9676ff045"
      },
      "source": [
        "%pip install -r requirements.txt"
      ],
      "execution_count": null,
      "outputs": [
        {
          "output_type": "stream",
          "name": "stdout",
          "text": [
            "Requirement already satisfied: torch in /usr/local/lib/python3.7/dist-packages (from -r requirements.txt (line 1)) (1.9.0+cu102)\n",
            "Requirement already satisfied: torchdiffeq in /usr/local/lib/python3.7/dist-packages (from -r requirements.txt (line 2)) (0.2.2)\n",
            "Requirement already satisfied: pyro-ppl in /usr/local/lib/python3.7/dist-packages (from -r requirements.txt (line 3)) (1.7.0)\n",
            "Requirement already satisfied: typing-extensions in /usr/local/lib/python3.7/dist-packages (from torch->-r requirements.txt (line 1)) (3.7.4.3)\n",
            "Requirement already satisfied: scipy>=1.4.0 in /usr/local/lib/python3.7/dist-packages (from torchdiffeq->-r requirements.txt (line 2)) (1.4.1)\n",
            "Requirement already satisfied: numpy>=1.13.3 in /usr/local/lib/python3.7/dist-packages (from scipy>=1.4.0->torchdiffeq->-r requirements.txt (line 2)) (1.19.5)\n",
            "Requirement already satisfied: tqdm>=4.36 in /usr/local/lib/python3.7/dist-packages (from pyro-ppl->-r requirements.txt (line 3)) (4.62.2)\n",
            "Requirement already satisfied: pyro-api>=0.1.1 in /usr/local/lib/python3.7/dist-packages (from pyro-ppl->-r requirements.txt (line 3)) (0.1.2)\n",
            "Requirement already satisfied: opt-einsum>=2.3.2 in /usr/local/lib/python3.7/dist-packages (from pyro-ppl->-r requirements.txt (line 3)) (3.3.0)\n"
          ]
        }
      ]
    },
    {
      "cell_type": "code",
      "metadata": {
        "colab": {
          "base_uri": "https://localhost:8080/"
        },
        "id": "0TBiW511-EdB",
        "outputId": "e20eed9c-842c-4baf-f57d-44aca64e5ed1"
      },
      "source": [
        "%pip install -e ."
      ],
      "execution_count": null,
      "outputs": [
        {
          "output_type": "stream",
          "name": "stdout",
          "text": [
            "Obtaining file:///content/KernelODEsAdversarial\n",
            "Requirement already satisfied: torch in /usr/local/lib/python3.7/dist-packages (from KernelODEsAdversarial==1.0) (1.9.0+cu102)\n",
            "Requirement already satisfied: torchdiffeq in /usr/local/lib/python3.7/dist-packages (from KernelODEsAdversarial==1.0) (0.2.2)\n",
            "Requirement already satisfied: pyro-ppl in /usr/local/lib/python3.7/dist-packages (from KernelODEsAdversarial==1.0) (1.7.0)\n",
            "Requirement already satisfied: numpy>=1.7 in /usr/local/lib/python3.7/dist-packages (from pyro-ppl->KernelODEsAdversarial==1.0) (1.19.5)\n",
            "Requirement already satisfied: opt-einsum>=2.3.2 in /usr/local/lib/python3.7/dist-packages (from pyro-ppl->KernelODEsAdversarial==1.0) (3.3.0)\n",
            "Requirement already satisfied: tqdm>=4.36 in /usr/local/lib/python3.7/dist-packages (from pyro-ppl->KernelODEsAdversarial==1.0) (4.62.2)\n",
            "Requirement already satisfied: pyro-api>=0.1.1 in /usr/local/lib/python3.7/dist-packages (from pyro-ppl->KernelODEsAdversarial==1.0) (0.1.2)\n",
            "Requirement already satisfied: typing-extensions in /usr/local/lib/python3.7/dist-packages (from torch->KernelODEsAdversarial==1.0) (3.7.4.3)\n",
            "Requirement already satisfied: scipy>=1.4.0 in /usr/local/lib/python3.7/dist-packages (from torchdiffeq->KernelODEsAdversarial==1.0) (1.4.1)\n",
            "Installing collected packages: KernelODEsAdversarial\n",
            "  Attempting uninstall: KernelODEsAdversarial\n",
            "    Found existing installation: KernelODEsAdversarial 1.0\n",
            "    Can't uninstall 'KernelODEsAdversarial'. No files were found to uninstall.\n",
            "  Running setup.py develop for KernelODEsAdversarial\n",
            "Successfully installed KernelODEsAdversarial-1.0\n"
          ]
        }
      ]
    },
    {
      "cell_type": "code",
      "metadata": {
        "id": "mb7w0WR7-H5Y"
      },
      "source": [
        "import os\n",
        "import matplotlib.pyplot as plt\n",
        "\n",
        "import torch\n",
        "import torchvision\n",
        "\n",
        "from kernelode.kernel_ode import ODEKernel, ode_kernel\n",
        "from kernelode.utils import predict_class_vector, predict_class\n",
        "\n",
        "import torch.nn.functional as F"
      ],
      "execution_count": null,
      "outputs": []
    },
    {
      "cell_type": "code",
      "metadata": {
        "colab": {
          "base_uri": "https://localhost:8080/"
        },
        "id": "gqPmLkl2-IYi",
        "outputId": "dc19d62b-6ab4-450b-c856-fce7db9f89a0"
      },
      "source": [
        "batch_size_train = 512\n",
        "batch_size_test = 256\n",
        "num_classes = 10\n",
        "\n",
        "random_seed = 1\n",
        "torch.backends.cudnn.enabled = False\n",
        "torch.manual_seed(random_seed)\n",
        "\n",
        "train_loader = torch.utils.data.DataLoader(\n",
        "  torchvision.datasets.CIFAR10('files/', train=True, download=True,\n",
        "                             transform=torchvision.transforms.Compose([\n",
        "                               torchvision.transforms.ToTensor(),\n",
        "                             ])),\n",
        "  batch_size=batch_size_train, shuffle=True)\n",
        "\n",
        "test_loader = torch.utils.data.DataLoader(\n",
        "  torchvision.datasets.CIFAR10('files/', train=False, download=True,\n",
        "                             transform=torchvision.transforms.Compose([\n",
        "                               torchvision.transforms.ToTensor(),\n",
        "                             ])),\n",
        "  batch_size=batch_size_test, shuffle=True)\n",
        "\n",
        "\n",
        "train_examples = enumerate(train_loader)\n",
        "batch_idx, (train_example_data, train_example_targets) = next(train_examples)\n",
        "\n",
        "test_examples = enumerate(test_loader)\n",
        "batch_idx, (test_example_data, test_example_targets) = next(test_examples)"
      ],
      "execution_count": null,
      "outputs": [
        {
          "output_type": "stream",
          "name": "stdout",
          "text": [
            "Files already downloaded and verified\n",
            "Files already downloaded and verified\n"
          ]
        }
      ]
    },
    {
      "cell_type": "markdown",
      "metadata": {
        "id": "f7uKwfehroUh"
      },
      "source": [
        "### Conv Kernel"
      ]
    },
    {
      "cell_type": "code",
      "metadata": {
        "colab": {
          "base_uri": "https://localhost:8080/"
        },
        "id": "WclKVW9BkL6L",
        "outputId": "b960845c-3f94-44f2-8a92-c1287397718d"
      },
      "source": [
        "%cd cnn-gp/"
      ],
      "execution_count": null,
      "outputs": [
        {
          "output_type": "stream",
          "name": "stdout",
          "text": [
            "/content/KernelODEsAdversarial/cnn-gp\n"
          ]
        }
      ]
    },
    {
      "cell_type": "code",
      "metadata": {
        "id": "TuToBeZdB47L"
      },
      "source": [
        "import os\n",
        "import matplotlib.pyplot as plt\n",
        "\n",
        "import torch\n",
        "from torch.distributions import constraints\n",
        "from torch.nn import Parameter\n",
        "\n",
        "import pyro\n",
        "import pyro.contrib.gp as gp\n",
        "import pyro.distributions as dist\n",
        "from pyro.nn.module import PyroParam\n",
        "\n",
        "\n",
        "from torchdiffeq import odeint\n",
        "from math import pi\n",
        "\n",
        "\n",
        "from cnn_gp import Sequential, Conv2d, ReLU\n",
        "\n",
        "π = torch.tensor(pi)\n",
        "\n",
        "model = Sequential(\n",
        "    Conv2d(kernel_size=4, stride=2),\n",
        "    ReLU(),\n",
        "    Conv2d(kernel_size=16, padding=0),  # equivalent to a dense layer\n",
        ")\n",
        "\n",
        "def ode_conv_kernel(X,Y, σ_b, σ_w, n=500.0,dim=1,method='euler', atol=0.01, rtol=1e-4, same=False, T=1):\n",
        "    #  Model: dk /dt = f(t, k )  where k is the kernel matrix   \n",
        "    \n",
        "    X = X.reshape(-1,3,32,32)\n",
        "    Y = Y.reshape(-1,3,32,32)\n",
        "\n",
        "    ts = torch.tensor([0, T])\n",
        "    dt = T / n # Uniform scaling\n",
        "\n",
        "    y0 = σ_b**2 + 0.5 * σ_w**2 * model(X, Y, same=same)\n",
        "\n",
        "    def f(γ):\n",
        "        ϵ = 1e-6\n",
        "        γ = ϵ + (1 - 2 * ϵ) * torch.clip(γ,-1,1)\n",
        "        \n",
        "        return (1.0 / π) * (torch.sqrt(1.0 - γ**2) - γ * torch.arccos(γ))\n",
        "\n",
        "    def k_xx_t_x(t,X_):\n",
        "        k0 = σ_b**2 + 0.5 * σ_w**2 * model(X_, diag=True)\n",
        "        result = torch.exp(0.5 * σ_w**2 * t) * k0 + 2 * (σ_b**2 / σ_w**2) * (torch.exp(0.5 * σ_w**2 * t) - 1.0)\n",
        "        return result\n",
        "   \n",
        "    k_xx_t_ = lambda t: k_xx_t_x(t,X)\n",
        "    k_yy_t_ = lambda t: k_xx_t_x(t,Y)\n",
        "    \n",
        "    def c_t(t,k):\n",
        "        kxxt = k_xx_t_(t).reshape(-1,1)\n",
        "        kyyt = k_yy_t_(t).reshape(-1,1)\n",
        "\n",
        "        result = k / torch.sqrt(kxxt.mm(kyyt.T))\n",
        "        return result\n",
        "\n",
        "    def drift(t,k):\n",
        "        ct = c_t(t,k)\n",
        "\n",
        "        result = σ_b**2 + 0.5 * σ_w**2 * (1.0 + (f(ct) / ct)  ) * k \n",
        "\n",
        "        return result\n",
        "    \n",
        "    \n",
        "    if method=='euler':\n",
        "        out = odeint(drift, y0, ts, method=\"euler\", options={\"step_size\":dt})\n",
        "    elif method=='dopri5':\n",
        "        out = odeint(drift, y0, ts, method='dopri5', atol=atol, rtol=rtol)\n",
        "    else:\n",
        "        out = odeint(drift, y0, ts, method=method)\n",
        "    return out"
      ],
      "execution_count": null,
      "outputs": []
    },
    {
      "cell_type": "markdown",
      "metadata": {
        "id": "AcpPt5v8ruJf"
      },
      "source": [
        "### Fitting\n"
      ]
    },
    {
      "cell_type": "code",
      "metadata": {
        "id": "vwxfNBvQ-J-t"
      },
      "source": [
        "Y_hot = F.one_hot(train_example_targets.to(torch.int64), num_classes=num_classes)"
      ],
      "execution_count": null,
      "outputs": []
    },
    {
      "cell_type": "code",
      "metadata": {
        "id": "t7Bez2fu-MI_"
      },
      "source": [
        "tol = 1e-3\n",
        "dim = 3*32*32\n",
        "# kernel = lambda x, y, same: ode_kernel(x, y, 1, 1, n=100, dim=dim, method='euler', T=30)\n",
        "kernel = lambda x, y, same: ode_kernel(x, y, 1, 1, 1, dim=dim, method='dopri5', atol=tol, rtol=tol, T=30)\n",
        "# kernel = lambda x, y, same: ode_conv_kernel(x, y, 1, 1, 1, dim, method='dopri5', atol=tol, rtol=tol, same=same)\n",
        "# kernel = lambda x, y, same: ode_conv_kernel(x, y, 1, 1, n=1, dim=dim, method='euler', same=same, T=30.0)"
      ],
      "execution_count": null,
      "outputs": []
    },
    {
      "cell_type": "code",
      "metadata": {
        "id": "so00gdrs-NR7"
      },
      "source": [
        "Kxx = kernel(train_example_data, train_example_data, True)[-1,...].T\n",
        "Y_hot_shifted = Y_hot * 2.0 - 1\n",
        "alphas = torch.linalg.solve(Kxx, Y_hot_shifted)"
      ],
      "execution_count": null,
      "outputs": []
    },
    {
      "cell_type": "markdown",
      "metadata": {
        "id": "MWdrKa2pW2DA"
      },
      "source": [
        "### Prediction"
      ]
    },
    {
      "cell_type": "code",
      "metadata": {
        "id": "6RXmSdtg-W33",
        "colab": {
          "base_uri": "https://localhost:8080/"
        },
        "outputId": "39e4e014-0372-4121-dd95-580ad55b7876"
      },
      "source": [
        "from sklearn.metrics import accuracy_score\n",
        "\n",
        "Kxvx = kernel(train_example_data, test_example_data, False)[-1,...].T\n",
        "scores = Kxvx.matmul(alphas)\n",
        "preds = scores.argmax(axis=1)\n",
        "\n",
        "print(accuracy_score(test_example_targets, preds))\n",
        "\n",
        "# import numpy as np\n",
        "\n",
        "# for i in range(20):\n",
        "#     tol = 10 ** (-5 + np.random.rand(1) * 4)\n",
        "#     Kxvx = ode_kernel(train_example_data, test_example_data, 1, 1, 1, dim=28*28, method='dopri5', atol=tol, rtol=tol)[-1,...].T\n",
        "#     scores = Kxvx.matmul(alphas)\n",
        "#     preds = scores.argmax(axis=1)\n",
        "#     predss.append(preds)\n",
        "#     print(accuracy_score(test_example_targets, predss[i]))"
      ],
      "execution_count": null,
      "outputs": [
        {
          "output_type": "stream",
          "name": "stdout",
          "text": [
            "0.328125\n"
          ]
        }
      ]
    },
    {
      "cell_type": "markdown",
      "metadata": {
        "id": "-dqA5jnzJMi2"
      },
      "source": [
        "### Adversarial examples"
      ]
    },
    {
      "cell_type": "code",
      "metadata": {
        "id": "Ekqo_sPH-aau"
      },
      "source": [
        "test_examples = enumerate(test_loader)\n",
        "batch_idx, (test_example_data, test_example_targets) = next(test_examples)\n",
        "test_example_data.requires_grad = True\n",
        "\n",
        "# Kxvx = ode_kernel(train_example_data, test_example_data, 1, 1, n=100, dim=28*28, method='euler')[-1, ...].T \n",
        "Kxvx = kernel(train_example_data, test_example_data, False)[-1,...].T"
      ],
      "execution_count": null,
      "outputs": []
    },
    {
      "cell_type": "code",
      "metadata": {
        "id": "4dtYIuyc-cBD"
      },
      "source": [
        "outputs = Kxvx.matmul(alphas)\n",
        "cost = F.nll_loss(outputs, test_example_targets)\n",
        "cost.backward()"
      ],
      "execution_count": null,
      "outputs": []
    },
    {
      "cell_type": "code",
      "metadata": {
        "id": "NUagKWlZ701q",
        "colab": {
          "base_uri": "https://localhost:8080/"
        },
        "outputId": "25bb31e5-7d71-4ace-9d57-6bda6cea7791"
      },
      "source": [
        "torch.any(torch.isnan(test_example_data.grad))"
      ],
      "execution_count": null,
      "outputs": [
        {
          "output_type": "execute_result",
          "data": {
            "text/plain": [
              "tensor(False)"
            ]
          },
          "metadata": {},
          "execution_count": 40
        }
      ]
    },
    {
      "cell_type": "code",
      "metadata": {
        "colab": {
          "base_uri": "https://localhost:8080/"
        },
        "id": "VLKakmKJ-eHE",
        "outputId": "fd68f6ce-9edc-4590-bba7-1fa3bf09e605"
      },
      "source": [
        "eps = 0.0001\n",
        "test_attack_images = test_example_data + eps*test_example_data.grad.sign()\n",
        "test_attack_images = torch.clamp(test_attack_images, 0, 1)\n",
        "\n",
        "Kxavx = kernel(train_example_data, test_attack_images, False)[-1,...].T\n",
        "scores = Kxavx.matmul(alphas)\n",
        "preds = scores.argmax(axis=1)\n",
        "accuracy_score(test_example_targets, preds)\n",
        "\n",
        "# import numpy as np\n",
        "\n",
        "# Kxvxs_attack = []\n",
        "# for i in range(20):\n",
        "#     tol = 10 ** (-5 + np.random.rand(1) * 3)\n",
        "#     Kxvx = ode_conv_kernel(train_example_data, test_attack_images, 1, 1, 1, dim=28*28, method='dopri5', atol=tol, rtol=tol)[-1,...].T\n",
        "#     scores = Kxavx.matmul(alphas)\n",
        "#     preds = scores.argmax(axis=1)\n",
        "#     print(accuracy_score(test_example_targets, preds))"
      ],
      "execution_count": null,
      "outputs": [
        {
          "output_type": "execute_result",
          "data": {
            "text/plain": [
              "0.3359375"
            ]
          },
          "metadata": {},
          "execution_count": 44
        }
      ]
    },
    {
      "cell_type": "markdown",
      "metadata": {
        "id": "pFqvxSzqXAoY"
      },
      "source": [
        "### RKHS norm and distance"
      ]
    },
    {
      "cell_type": "code",
      "metadata": {
        "id": "fySbQCy0X-Ep",
        "colab": {
          "base_uri": "https://localhost:8080/"
        },
        "outputId": "28b9fc20-ec9d-419e-e1ab-2e6ae171c6f7"
      },
      "source": [
        "for i in range(10):\n",
        "    f_norm = alphas[:, i].matmul(Kxx).matmul(alphas[:, i])\n",
        "    print(f_norm)"
      ],
      "execution_count": null,
      "outputs": [
        {
          "output_type": "stream",
          "name": "stdout",
          "text": [
            "tensor(3.5976e-06)\n",
            "tensor(3.5492e-06)\n",
            "tensor(5.7061e-06)\n",
            "tensor(3.7573e-06)\n",
            "tensor(6.5348e-06)\n",
            "tensor(4.1558e-06)\n",
            "tensor(5.2746e-06)\n",
            "tensor(4.0472e-06)\n",
            "tensor(4.3209e-06)\n",
            "tensor(3.1700e-06)\n"
          ]
        }
      ]
    },
    {
      "cell_type": "code",
      "metadata": {
        "id": "rfO1dU9dXCdE"
      },
      "source": [
        "Ktxatx_xx = kernel(test_example_data[:1], test_example_data[:1], True)[-1,...].T\n",
        "Ktxatx_xy = kernel(test_example_data[:1], test_attack_images[:1], False)[-1,...].T\n",
        "Ktxatx_yy = kernel(test_attack_images[:1], test_attack_images[:1], True)[-1,...].T\n",
        "rkhs_norm = Ktxatx_xx - 2 * Ktxatx_xy + Ktxatx_yy\n",
        "rkhs_norm"
      ],
      "execution_count": null,
      "outputs": []
    },
    {
      "cell_type": "markdown",
      "metadata": {
        "id": "E-6cd9fbL91g"
      },
      "source": [
        "### Uncertainty measures\n"
      ]
    },
    {
      "cell_type": "code",
      "metadata": {
        "id": "6RuIN4GTzyFp"
      },
      "source": [
        "Kavxavx = kernel(test_attack_images, test_attack_images, False)[-1,...].T\n",
        "\n",
        "variances_adv = torch.diag(Kavxavx - Kxavx.mm(torch.linalg.solve(Kxx, Kxavx.T)))"
      ],
      "execution_count": null,
      "outputs": []
    },
    {
      "cell_type": "code",
      "metadata": {
        "id": "eLre6k-dzGzg"
      },
      "source": [
        "Kvxvx = kernel(test_example_data, test_example_data, False)[-1,...].T\n",
        "\n",
        "variances = torch.diag(Kvxvx - Kxvx.mm(torch.linalg.solve(Kxx, Kxvx.T)))"
      ],
      "execution_count": null,
      "outputs": []
    },
    {
      "cell_type": "code",
      "metadata": {
        "colab": {
          "base_uri": "https://localhost:8080/",
          "height": 283
        },
        "id": "w4LRKjaczttL",
        "outputId": "807dcb36-4283-4323-f337-4746e8ed941c"
      },
      "source": [
        "import numpy as np\n",
        "\n",
        "plt.scatter(np.arange(len(variances)), variances.detach(), c='red')\n",
        "plt.scatter(np.arange(len(variances_adv)), variances_adv.detach(), c='blue')"
      ],
      "execution_count": null,
      "outputs": [
        {
          "output_type": "execute_result",
          "data": {
            "text/plain": [
              "<matplotlib.collections.PathCollection at 0x7fa517a61e90>"
            ]
          },
          "metadata": {},
          "execution_count": 63
        },
        {
          "output_type": "display_data",
          "data": {
            "image/png": "[encoded data removed]",
            "text/plain": [
              "<Figure size 432x288 with 1 Axes>"
            ]
          },
          "metadata": {
            "needs_background": "light"
          }
        }
      ]
    },
    {
      "cell_type": "markdown",
      "metadata": {
        "id": "jwQbgQ4YMCM3"
      },
      "source": [
        "### Adversarial Image Plots"
      ]
    },
    {
      "cell_type": "code",
      "metadata": {
        "colab": {
          "base_uri": "https://localhost:8080/",
          "height": 266
        },
        "id": "flz70KHu-hYs",
        "outputId": "8a4e8e51-905c-4c0b-d843-090a9848e345"
      },
      "source": [
        "plt.imshow(test_example_data[0][0].detach())\n",
        "plt.axis('off')"
      ],
      "execution_count": null,
      "outputs": [
        {
          "output_type": "execute_result",
          "data": {
            "text/plain": [
              "(-0.5, 31.5, 31.5, -0.5)"
            ]
          },
          "metadata": {},
          "execution_count": 47
        },
        {
          "output_type": "display_data",
          "data": {
            "image/png": "[encoded data removed]",
            "text/plain": [
              "<Figure size 432x288 with 1 Axes>"
            ]
          },
          "metadata": {
            "needs_background": "light"
          }
        }
      ]
    },
    {
      "cell_type": "code",
      "metadata": {
        "colab": {
          "base_uri": "https://localhost:8080/",
          "height": 266
        },
        "id": "QF9cO1Bu-jpw",
        "outputId": "2f40fd6c-50ed-46e8-d6ad-c36d3289ae3e"
      },
      "source": [
        "plt.imshow(test_attack_images[0][0].detach())\n",
        "plt.axis('off')"
      ],
      "execution_count": null,
      "outputs": [
        {
          "output_type": "execute_result",
          "data": {
            "text/plain": [
              "(-0.5, 31.5, 31.5, -0.5)"
            ]
          },
          "metadata": {},
          "execution_count": 48
        },
        {
          "output_type": "display_data",
          "data": {
            "image/png": "[encoded data removed]",
            "text/plain": [
              "<Figure size 432x288 with 1 Axes>"
            ]
          },
          "metadata": {
            "needs_background": "light"
          }
        }
      ]
    },
    {
      "cell_type": "code",
      "metadata": {
        "id": "ILq4L6KAOAKf"
      },
      "source": [
        "eps = torch.tensor([0.0001, 0.001, 0.01, 0.1])\n",
        "images_to_show = test_example_data[:4]\n",
        "test_attack_images_to_show = images_to_show + eps.reshape(-1, 1, 1, 1)*test_example_data.grad.sign()[:4]\n",
        "test_attack_images_to_show = torch.clamp(test_attack_images_to_show, 0, 1)"
      ],
      "execution_count": null,
      "outputs": []
    },
    {
      "cell_type": "code",
      "metadata": {
        "colab": {
          "base_uri": "https://localhost:8080/",
          "height": 136
        },
        "id": "bj6hHAWROi0K",
        "outputId": "394c8c61-58e0-4e2e-f98b-2e0ea2dc7aa7"
      },
      "source": [
        "import torchvision\n",
        "\n",
        "grid_img = torchvision.utils.make_grid(test_attack_images_to_show, nrow=4)\n",
        "plt.imshow(grid_img.permute(1, 2, 0), cmap='copper')\n",
        "plt.axis('off')"
      ],
      "execution_count": null,
      "outputs": [
        {
          "output_type": "execute_result",
          "data": {
            "text/plain": [
              "(-0.5, 137.5, 35.5, -0.5)"
            ]
          },
          "metadata": {},
          "execution_count": 50
        },
        {
          "output_type": "display_data",
          "data": {
            "image/png": "[encoded data removed]",
            "text/plain": [
              "<Figure size 432x288 with 1 Axes>"
            ]
          },
          "metadata": {
            "needs_background": "light"
          }
        }
      ]
    },
    {
      "cell_type": "code",
      "metadata": {
        "colab": {
          "base_uri": "https://localhost:8080/",
          "height": 284
        },
        "id": "_kq6TTy2-kr6",
        "outputId": "bee3ce08-cee8-4625-95ba-f06787084492"
      },
      "source": [
        "fig = plt.figure()\n",
        "for i in range(0, 3):\n",
        "  plt.subplot(3,2,2*i+1)\n",
        "  plt.tight_layout()\n",
        "  plt.imshow(test_example_data[i][0].detach(), cmap='gray', interpolation='none')\n",
        "  plt.title(\"Ground Truth: {}\".format(test_example_targets[i]))\n",
        "  plt.xticks([])\n",
        "  plt.yticks([])\n",
        "  plt.subplot(3,2,2*i+2)\n",
        "  plt.tight_layout()\n",
        "  plt.imshow(test_attack_images[i][0].detach(), cmap='gray', interpolation='none')\n",
        "  plt.title(\"Prediction: {}\".format(preds[i]))\n",
        "  plt.xticks([])\n",
        "  plt.yticks([])"
      ],
      "execution_count": null,
      "outputs": [
        {
          "output_type": "display_data",
          "data": {
            "image/png": "[encoded data removed]",
            "text/plain": [
              "<Figure size 432x288 with 6 Axes>"
            ]
          },
          "metadata": {}
        }
      ]
    }
  ]
}