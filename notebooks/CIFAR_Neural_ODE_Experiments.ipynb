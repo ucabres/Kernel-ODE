{
  "nbformat": 4,
  "nbformat_minor": 0,
  "metadata": {
    "colab": {
      "name": "CIFAR_Neural_ODE_Experiments.ipynb",
      "provenance": [],
      "collapsed_sections": []
    },
    "kernelspec": {
      "name": "python3",
      "display_name": "Python 3"
    },
    "language_info": {
      "name": "python"
    },
    "accelerator": "GPU"
  },
  "cells": [
    {
      "cell_type": "code",
      "metadata": {
        "colab": {
          "base_uri": "https://localhost:8080/"
        },
        "id": "MouqFsYZ6o57",
        "outputId": "9eb6f48e-7634-494a-f82c-38d6b41d9eca"
      },
      "source": [
        "from pathlib import Path\n",
        "\n",
        "repo_url  = 'https://github.com/rtqichen/torchdiffeq'\n",
        "project_path        = Path('/').absolute() / 'content'\n",
        "neuralode_repo_path = project_path / 'NeuralODE'\n",
        "\n",
        "# Create project folder if inexistant\n",
        "if not project_path.is_dir():\n",
        "    %mkdir \"{project_path}\"\n",
        "%cd \"{project_path}\"\n",
        "\n",
        "# Download repository\n",
        "!git config --global user.name \"ucabres\"\n",
        "!git config --global user.email \"ucabres@ucl.ac.uk\"\n",
        "if neuralode_repo_path.is_dir():\n",
        "    !git -C \"{neuralode_repo_path}\" fetch origin\n",
        "    !git -C \"{neuralode_repo_path}\" checkout origin/main -- *.py\n",
        "else:\n",
        "    print(\"Install repository\")\n",
        "    !git clone {repo_url}"
      ],
      "execution_count": null,
      "outputs": [
        {
          "output_type": "stream",
          "name": "stdout",
          "text": [
            "/content\n",
            "Install repository\n",
            "Cloning into 'torchdiffeq'...\n",
            "remote: Enumerating objects: 1138, done.\u001b[K\n",
            "remote: Counting objects: 100% (434/434), done.\u001b[K\n",
            "remote: Compressing objects: 100% (194/194), done.\u001b[K\n",
            "remote: Total 1138 (delta 256), reused 400 (delta 240), pack-reused 704\u001b[K\n",
            "Receiving objects: 100% (1138/1138), 8.29 MiB | 33.29 MiB/s, done.\n",
            "Resolving deltas: 100% (682/682), done.\n"
          ]
        }
      ]
    },
    {
      "cell_type": "code",
      "metadata": {
        "colab": {
          "base_uri": "https://localhost:8080/"
        },
        "id": "Hps7vq8j9SWf",
        "outputId": "8efcb9b8-6b24-478a-bf41-20a9df477ff3"
      },
      "source": [
        "%cd torchdiffeq/"
      ],
      "execution_count": null,
      "outputs": [
        {
          "output_type": "stream",
          "name": "stdout",
          "text": [
            "/content/torchdiffeq\n"
          ]
        }
      ]
    },
    {
      "cell_type": "code",
      "metadata": {
        "id": "Am1cGIpnwOae"
      },
      "source": [
        "import os\n",
        "import argparse\n",
        "import logging\n",
        "import time\n",
        "import numpy as np\n",
        "import torch\n",
        "import torch.nn as nn\n",
        "from torch.utils.data import DataLoader\n",
        "import torchvision.datasets as datasets\n",
        "import torchvision.transforms as transforms\n",
        "import torch.optim as optim\n",
        "import torch.nn.functional as F\n",
        "from torch.optim.lr_scheduler import StepLR, MultiStepLR\n",
        "\n",
        "import sys\n",
        "sys.argv = ['']\n",
        "\n",
        "parser = argparse.ArgumentParser()\n",
        "parser.add_argument('--ode', action='store_true', default=True,\n",
        "                    help='Train NeutralODE model or Resnet model')\n",
        "parser.add_argument('--tol', type=float, default=1e-3)\n",
        "parser.add_argument('--adjoint', type=eval, default=False, choices=[True, False])\n",
        "parser.add_argument('--downsampling-method', type=str, default='conv', choices=['conv', 'res'])\n",
        "parser.add_argument('--nepochs', type=int, default=160)\n",
        "parser.add_argument('--data_aug', type=eval, default=True, choices=[True, False])\n",
        "parser.add_argument('--lr', type=float, default=0.1)\n",
        "parser.add_argument('--batch_size', type=int, default=128)\n",
        "parser.add_argument('--test_batch_size', type=int, default=128)\n",
        "parser.add_argument('--seed', type=int, default=1)\n",
        "parser.add_argument('--gamma', type=float, default=0.7, metavar='M',\n",
        "                    help='Learning rate step gamma (default: 0.7)')\n",
        "\n",
        "parser.add_argument('--save-model', action='store_true', default=False,\n",
        "                    help='For Saving the current Model')\n",
        "parser.add_argument('--debug', action='store_true')\n",
        "parser.add_argument('--log-interval', type=int, default=10, metavar='N',\n",
        "                    help='how many batches to wait before logging training status')\n",
        "parser.add_argument('--gpu', type=int, default=0)\n",
        "args = parser.parse_args()\n",
        "\n",
        "if args.adjoint:\n",
        "    from torchdiffeq import odeint_adjoint as odeint\n",
        "else:\n",
        "    from torchdiffeq import odeint\n",
        "\n",
        "\n",
        "class ODEfunc(nn.Module):\n",
        "    def __init__(self, dim):\n",
        "        super(ODEfunc, self).__init__()\n",
        "        self.ff = nn.Linear(dim, dim)\n",
        "        self.relu = nn.ReLU(inplace=True)\n",
        "        self.nfe = 0\n",
        "\n",
        "    def forward(self, t, x):\n",
        "        self.nfe += 1\n",
        "        out = self.ff(x)\n",
        "        out = self.relu(out)\n",
        "        return out\n",
        "\n",
        "\n",
        "class ODEBlock(nn.Module):\n",
        "\n",
        "    def __init__(self, odefunc, T=1):\n",
        "        super(ODEBlock, self).__init__()\n",
        "        self.odefunc = odefunc\n",
        "        self.integration_time = torch.tensor([0, T]).float()\n",
        "        self.step_size = T*1.0/100\n",
        "\n",
        "    def forward(self, x):\n",
        "        self.integration_time = self.integration_time.type_as(x)\n",
        "        # out = odeint(self.odefunc, x, self.integration_time, method='euler', rtol=args.tol, atol=args.tol, options={'step_size':self.step_size})\n",
        "        out = odeint(self.odefunc, x, self.integration_time, method='dopri5', rtol=args.tol, atol=args.tol)\n",
        "        return out[1]\n",
        "\n",
        "    @property\n",
        "    def nfe(self):\n",
        "        return self.odefunc.nfe\n",
        "\n",
        "    @nfe.setter\n",
        "    def nfe(self, value):\n",
        "        self.odefunc.nfe = value\n",
        "\n",
        "\n",
        "class Flatten(nn.Module):\n",
        "\n",
        "    def __init__(self):\n",
        "        super(Flatten, self).__init__()\n",
        "\n",
        "    def forward(self, x):\n",
        "        shape = torch.prod(torch.tensor(x.shape[1:])).item()\n",
        "        return x.view(-1, shape)\n",
        "\n",
        "class Net(nn.Module):\n",
        "    def __init__(self, ode=True):\n",
        "        super(Net, self).__init__()\n",
        "        # downsampling_layers = [\n",
        "        # ]\n",
        "        # feature_layers = [\n",
        "        #     Flatten(), \n",
        "        #     ODEBlock(ODEfunc(3*32*32), T=1)\n",
        "        # ]\n",
        "        # fc_layers = [\n",
        "        #     Flatten(), \n",
        "        #     nn.Linear(3*32*32, 10)\n",
        "        # ]\n",
        "        downsampling_layers = [\n",
        "            nn.Conv2d(3, 3, 4, 2, 1),\n",
        "            nn.ReLU(inplace=True),\n",
        "        ]\n",
        "        feature_layers = [\n",
        "            Flatten(), \n",
        "            ODEBlock(ODEfunc(3*16*16), T=1)\n",
        "        ]\n",
        "        fc_layers = [\n",
        "            Flatten(), \n",
        "            nn.Linear(3*16*16, 10)\n",
        "        ]\n",
        "        self.model = nn.Sequential(*downsampling_layers, *feature_layers, *fc_layers)\n",
        "\n",
        "    def forward(self, x):\n",
        "        x = self.model(x)\n",
        "        out = F.log_softmax(x, dim=1)\n",
        "        return out\n",
        "\n",
        "\n",
        "def train(args, model, device, train_loader, optimizer, epoch):\n",
        "    model.train()\n",
        "    for batch_idx, (data, target) in enumerate(train_loader):\n",
        "        data, target = data.to(device), target.to(device)\n",
        "        optimizer.zero_grad()\n",
        "        output = model(data)\n",
        "        loss = F.nll_loss(output, target)\n",
        "        loss.backward()\n",
        "        optimizer.step()\n",
        "        if batch_idx % args.log_interval == 0:\n",
        "            print('Train Epoch: {} [{}/{} ({:.0f}%)]\\tLoss: {:.6f}'.format(\n",
        "                epoch, batch_idx * len(data), len(train_loader.dataset),\n",
        "                100. * batch_idx / len(train_loader), loss.item()))\n",
        "\n",
        "\n",
        "def test(args, model, device, test_loader):\n",
        "    model.eval()\n",
        "    test_loss = 0\n",
        "    correct = 0\n",
        "    with torch.no_grad():\n",
        "        for data, target in test_loader:\n",
        "            data, target = data.to(device), target.to(device)\n",
        "            output = model(data)\n",
        "            test_loss += F.nll_loss(output, target, reduction='sum').item()  # sum up batch loss\n",
        "            pred = output.argmax(dim=1, keepdim=True)  # get the index of the max log-probability\n",
        "            correct += pred.eq(target.view_as(pred)).sum().item()\n",
        "\n",
        "    test_loss /= len(test_loader.dataset)\n",
        "\n",
        "    print('\\nTest set: Average loss: {:.4f}, Accuracy: {}/{} ({:.0f}%)\\n'.format(\n",
        "        test_loss, correct, len(test_loader.dataset),\n",
        "        100. * correct / len(test_loader.dataset)))"
      ],
      "execution_count": null,
      "outputs": []
    },
    {
      "cell_type": "code",
      "metadata": {
        "id": "mb7w0WR7-H5Y",
        "colab": {
          "base_uri": "https://localhost:8080/"
        },
        "outputId": "7b68539c-f6ea-40da-a81f-27143a8c1da5"
      },
      "source": [
        "use_cuda = True\n",
        "torch.manual_seed(args.seed)\n",
        "\n",
        "\n",
        "args.epochs = 20\n",
        "\n",
        "\n",
        "device = torch.device(\"cuda\" if use_cuda else \"cpu\")\n",
        "\n",
        "kwargs = {'num_workers': 1, 'pin_memory': True} if use_cuda else {}\n",
        "\n",
        "train_whole = datasets.CIFAR10('../data', train=True, download=True,\n",
        "                    transform=transforms.Compose([\n",
        "                        transforms.ToTensor(),\n",
        "                    ]))\n",
        "test_whole = datasets.CIFAR10('../data', train=False, transform=transforms.Compose([\n",
        "                        transforms.ToTensor(),\n",
        "                    ]))\n",
        "\n",
        "train_dataset = torch.utils.data.Subset(train_whole, range(512))\n",
        "test_dataset = torch.utils.data.Subset(test_whole, range(128))\n",
        "\n",
        "train_loader = torch.utils.data.DataLoader(\n",
        "    train_dataset,\n",
        "    batch_size=args.batch_size, shuffle=True, **kwargs)\n",
        "test_loader = torch.utils.data.DataLoader(\n",
        "    test_dataset,\n",
        "    batch_size=args.test_batch_size, shuffle=True, **kwargs)\n",
        "\n",
        "model = Net(args.ode).to(device)\n",
        "\n",
        "optimizer = torch.optim.SGD(model.parameters(), lr=args.lr, momentum=0.9)\n",
        "scheduler = StepLR(optimizer, step_size=1, gamma=args.gamma)\n",
        "\n",
        "for epoch in range(1, args.epochs + 1):\n",
        "    train(args, model, device, train_loader, optimizer, epoch)\n",
        "    test(args, model, device, test_loader)\n",
        "    scheduler.step()\n",
        "\n",
        "if args.save_model:\n",
        "    torch.save(model.state_dict(), \"mnist_cnn.pt\")"
      ],
      "execution_count": null,
      "outputs": [
        {
          "output_type": "stream",
          "name": "stdout",
          "text": [
            "Files already downloaded and verified\n",
            "Train Epoch: 1 [0/512 (0%)]\tLoss: 2.302788\n",
            "\n",
            "Test set: Average loss: 2.2981, Accuracy: 12/128 (9%)\n",
            "\n",
            "Train Epoch: 2 [0/512 (0%)]\tLoss: 2.279429\n",
            "\n",
            "Test set: Average loss: 2.3034, Accuracy: 13/128 (10%)\n",
            "\n",
            "Train Epoch: 3 [0/512 (0%)]\tLoss: 2.249310\n",
            "\n",
            "Test set: Average loss: 2.2492, Accuracy: 22/128 (17%)\n",
            "\n",
            "Train Epoch: 4 [0/512 (0%)]\tLoss: 2.224255\n",
            "\n",
            "Test set: Average loss: 2.1468, Accuracy: 31/128 (24%)\n",
            "\n",
            "Train Epoch: 5 [0/512 (0%)]\tLoss: 2.131997\n",
            "\n",
            "Test set: Average loss: 2.1081, Accuracy: 31/128 (24%)\n",
            "\n",
            "Train Epoch: 6 [0/512 (0%)]\tLoss: 2.058265\n",
            "\n",
            "Test set: Average loss: 2.0563, Accuracy: 31/128 (24%)\n",
            "\n",
            "Train Epoch: 7 [0/512 (0%)]\tLoss: 1.895233\n",
            "\n",
            "Test set: Average loss: 2.0196, Accuracy: 38/128 (30%)\n",
            "\n",
            "Train Epoch: 8 [0/512 (0%)]\tLoss: 1.845958\n",
            "\n",
            "Test set: Average loss: 2.0028, Accuracy: 41/128 (32%)\n",
            "\n",
            "Train Epoch: 9 [0/512 (0%)]\tLoss: 1.946802\n",
            "\n",
            "Test set: Average loss: 2.0331, Accuracy: 30/128 (23%)\n",
            "\n",
            "Train Epoch: 10 [0/512 (0%)]\tLoss: 1.788447\n",
            "\n",
            "Test set: Average loss: 1.9934, Accuracy: 44/128 (34%)\n",
            "\n",
            "Train Epoch: 11 [0/512 (0%)]\tLoss: 1.684747\n",
            "\n",
            "Test set: Average loss: 1.9966, Accuracy: 40/128 (31%)\n",
            "\n",
            "Train Epoch: 12 [0/512 (0%)]\tLoss: 1.753636\n",
            "\n",
            "Test set: Average loss: 2.0018, Accuracy: 34/128 (27%)\n",
            "\n",
            "Train Epoch: 13 [0/512 (0%)]\tLoss: 1.738078\n",
            "\n",
            "Test set: Average loss: 1.9982, Accuracy: 36/128 (28%)\n",
            "\n",
            "Train Epoch: 14 [0/512 (0%)]\tLoss: 1.648840\n",
            "\n",
            "Test set: Average loss: 1.9912, Accuracy: 36/128 (28%)\n",
            "\n",
            "Train Epoch: 15 [0/512 (0%)]\tLoss: 1.694103\n",
            "\n",
            "Test set: Average loss: 1.9924, Accuracy: 36/128 (28%)\n",
            "\n",
            "Train Epoch: 16 [0/512 (0%)]\tLoss: 1.753908\n",
            "\n",
            "Test set: Average loss: 1.9932, Accuracy: 36/128 (28%)\n",
            "\n",
            "Train Epoch: 17 [0/512 (0%)]\tLoss: 1.710529\n",
            "\n",
            "Test set: Average loss: 1.9918, Accuracy: 36/128 (28%)\n",
            "\n",
            "Train Epoch: 18 [0/512 (0%)]\tLoss: 1.795766\n",
            "\n",
            "Test set: Average loss: 1.9895, Accuracy: 37/128 (29%)\n",
            "\n",
            "Train Epoch: 19 [0/512 (0%)]\tLoss: 1.742434\n",
            "\n",
            "Test set: Average loss: 1.9883, Accuracy: 37/128 (29%)\n",
            "\n",
            "Train Epoch: 20 [0/512 (0%)]\tLoss: 1.620227\n",
            "\n",
            "Test set: Average loss: 1.9879, Accuracy: 37/128 (29%)\n",
            "\n"
          ]
        }
      ]
    },
    {
      "cell_type": "code",
      "metadata": {
        "id": "Ekqo_sPH-aau"
      },
      "source": [
        "test_example_data, test_example_labels = next(iter(test_loader))\n",
        "test_example_data, test_example_labels = test_example_data.cuda(), test_example_labels.cuda()\n",
        "\n",
        "test_example_data.requires_grad = True\n",
        "\n",
        "output = model(test_example_data)\n",
        "loss = F.nll_loss(output, test_example_labels)\n",
        "loss.backward()"
      ],
      "execution_count": null,
      "outputs": []
    },
    {
      "cell_type": "code",
      "metadata": {
        "id": "dxLH4Fwx-dHA",
        "colab": {
          "base_uri": "https://localhost:8080/"
        },
        "outputId": "59ada252-7a3f-4251-e5b8-c609b7a88325"
      },
      "source": [
        "eps = 0.1\n",
        "test_attack_images = test_example_data + eps*test_example_data.grad.sign()\n",
        "test_attack_images = torch.clamp(test_attack_images, 0, 1)\n",
        "\n",
        "adv_output = model(test_attack_images)\n",
        "adv_pred = adv_output.argmax(dim=1, keepdim=True)  # get the index of the max log-probability\n",
        "correct = adv_pred.eq(test_example_labels.view_as(adv_pred)).sum().item()\n",
        "print(correct / adv_output.shape[0])"
      ],
      "execution_count": null,
      "outputs": [
        {
          "output_type": "stream",
          "name": "stdout",
          "text": [
            "0.0\n"
          ]
        }
      ]
    },
    {
      "cell_type": "code",
      "metadata": {
        "colab": {
          "base_uri": "https://localhost:8080/",
          "height": 283
        },
        "id": "flz70KHu-hYs",
        "outputId": "f8d1b8cc-8034-4425-ca01-f01dad04201a"
      },
      "source": [
        "plt.imshow(test_example_data[0][0].cpu().detach())"
      ],
      "execution_count": null,
      "outputs": [
        {
          "output_type": "execute_result",
          "data": {
            "text/plain": [
              "<matplotlib.image.AxesImage at 0x7fd5a1143910>"
            ]
          },
          "metadata": {},
          "execution_count": 51
        },
        {
          "output_type": "display_data",
          "data": {
            "image/png": "[encoded data removed]",
            "text/plain": [
              "<Figure size 432x288 with 1 Axes>"
            ]
          },
          "metadata": {
            "needs_background": "light"
          }
        }
      ]
    },
    {
      "cell_type": "code",
      "metadata": {
        "colab": {
          "base_uri": "https://localhost:8080/",
          "height": 284
        },
        "id": "QF9cO1Bu-jpw",
        "outputId": "12bf538c-95a6-4e8e-ad2e-e791275f4825"
      },
      "source": [
        "import matplotlib.pyplot as plt\n",
        "\n",
        "plt.imshow(test_attack_images[0][0].cpu().detach())"
      ],
      "execution_count": null,
      "outputs": [
        {
          "output_type": "execute_result",
          "data": {
            "text/plain": [
              "<matplotlib.image.AxesImage at 0x7f842374cf50>"
            ]
          },
          "metadata": {},
          "execution_count": 31
        },
        {
          "output_type": "display_data",
          "data": {
            "image/png": "[encoded data removed]",
            "text/plain": [
              "<Figure size 432x288 with 1 Axes>"
            ]
          },
          "metadata": {
            "needs_background": "light"
          }
        }
      ]
    },
    {
      "cell_type": "code",
      "metadata": {
        "colab": {
          "base_uri": "https://localhost:8080/",
          "height": 136
        },
        "id": "oLcZt1ipQASy",
        "outputId": "1fa050f1-cb02-4fc4-f79f-4b29781188d8"
      },
      "source": [
        "eps = torch.tensor([0.0001, 0.001, 0.01, 0.1])\n",
        "images_to_show = test_example_data[:4]\n",
        "test_attack_images_to_show = images_to_show.cpu() + eps.reshape(-1, 1, 1, 1)*test_example_data.grad.cpu().sign()[:4]\n",
        "test_attack_images_to_show = torch.clamp(test_attack_images_to_show, 0, 1)\n",
        "import torchvision\n",
        "\n",
        "grid_img = torchvision.utils.make_grid(test_attack_images_to_show, nrow=4)\n",
        "plt.imshow(grid_img.permute(1, 2, 0), cmap='copper')\n",
        "plt.axis('off')"
      ],
      "execution_count": null,
      "outputs": [
        {
          "output_type": "execute_result",
          "data": {
            "text/plain": [
              "(-0.5, 137.5, 35.5, -0.5)"
            ]
          },
          "metadata": {},
          "execution_count": 32
        },
        {
          "output_type": "display_data",
          "data": {
            "image/png": "[encoded data removed]",
            "text/plain": [
              "<Figure size 432x288 with 1 Axes>"
            ]
          },
          "metadata": {
            "needs_background": "light"
          }
        }
      ]
    },
    {
      "cell_type": "code",
      "metadata": {
        "colab": {
          "base_uri": "https://localhost:8080/",
          "height": 346
        },
        "id": "_kq6TTy2-kr6",
        "outputId": "15acd028-8630-4418-c4bc-0b18c872d0e8"
      },
      "source": [
        "fig = plt.figure()\n",
        "for i in range(0, 3):\n",
        "  plt.subplot(3,2,2*i+1)\n",
        "  plt.tight_layout()\n",
        "  plt.imshow(test_example_data[i][0].cpu().detach(), cmap='gray', interpolation='none')\n",
        "  plt.title(\"Ground Truth: {}\".format(test_example_targets[i]))\n",
        "  plt.xticks([])\n",
        "  plt.yticks([])\n",
        "  plt.subplot(3,2,2*i+2)\n",
        "  plt.tight_layout()\n",
        "  plt.imshow(test_attack_images[i][0].cpu().detach(), cmap='gray', interpolation='none')\n",
        "  plt.title(\"Prediction: {}\".format(preds[i]))\n",
        "  plt.xticks([])\n",
        "  plt.yticks([])"
      ],
      "execution_count": null,
      "outputs": [
        {
          "output_type": "error",
          "ename": "NameError",
          "evalue": "ignored",
          "traceback": [
            "\u001b[0;31m---------------------------------------------------------------------------\u001b[0m",
            "\u001b[0;31mNameError\u001b[0m                                 Traceback (most recent call last)",
            "\u001b[0;32m<ipython-input-34-4259d6e3e857>\u001b[0m in \u001b[0;36m<module>\u001b[0;34m()\u001b[0m\n\u001b[1;32m      4\u001b[0m   \u001b[0mplt\u001b[0m\u001b[0;34m.\u001b[0m\u001b[0mtight_layout\u001b[0m\u001b[0;34m(\u001b[0m\u001b[0;34m)\u001b[0m\u001b[0;34m\u001b[0m\u001b[0;34m\u001b[0m\u001b[0m\n\u001b[1;32m      5\u001b[0m   \u001b[0mplt\u001b[0m\u001b[0;34m.\u001b[0m\u001b[0mimshow\u001b[0m\u001b[0;34m(\u001b[0m\u001b[0mtest_example_data\u001b[0m\u001b[0;34m[\u001b[0m\u001b[0mi\u001b[0m\u001b[0;34m]\u001b[0m\u001b[0;34m[\u001b[0m\u001b[0;36m0\u001b[0m\u001b[0;34m]\u001b[0m\u001b[0;34m.\u001b[0m\u001b[0mcpu\u001b[0m\u001b[0;34m(\u001b[0m\u001b[0;34m)\u001b[0m\u001b[0;34m.\u001b[0m\u001b[0mdetach\u001b[0m\u001b[0;34m(\u001b[0m\u001b[0;34m)\u001b[0m\u001b[0;34m,\u001b[0m \u001b[0mcmap\u001b[0m\u001b[0;34m=\u001b[0m\u001b[0;34m'gray'\u001b[0m\u001b[0;34m,\u001b[0m \u001b[0minterpolation\u001b[0m\u001b[0;34m=\u001b[0m\u001b[0;34m'none'\u001b[0m\u001b[0;34m)\u001b[0m\u001b[0;34m\u001b[0m\u001b[0;34m\u001b[0m\u001b[0m\n\u001b[0;32m----> 6\u001b[0;31m   \u001b[0mplt\u001b[0m\u001b[0;34m.\u001b[0m\u001b[0mtitle\u001b[0m\u001b[0;34m(\u001b[0m\u001b[0;34m\"Ground Truth: {}\"\u001b[0m\u001b[0;34m.\u001b[0m\u001b[0mformat\u001b[0m\u001b[0;34m(\u001b[0m\u001b[0mtest_example_targets\u001b[0m\u001b[0;34m[\u001b[0m\u001b[0mi\u001b[0m\u001b[0;34m]\u001b[0m\u001b[0;34m)\u001b[0m\u001b[0;34m)\u001b[0m\u001b[0;34m\u001b[0m\u001b[0;34m\u001b[0m\u001b[0m\n\u001b[0m\u001b[1;32m      7\u001b[0m   \u001b[0mplt\u001b[0m\u001b[0;34m.\u001b[0m\u001b[0mxticks\u001b[0m\u001b[0;34m(\u001b[0m\u001b[0;34m[\u001b[0m\u001b[0;34m]\u001b[0m\u001b[0;34m)\u001b[0m\u001b[0;34m\u001b[0m\u001b[0;34m\u001b[0m\u001b[0m\n\u001b[1;32m      8\u001b[0m   \u001b[0mplt\u001b[0m\u001b[0;34m.\u001b[0m\u001b[0myticks\u001b[0m\u001b[0;34m(\u001b[0m\u001b[0;34m[\u001b[0m\u001b[0;34m]\u001b[0m\u001b[0;34m)\u001b[0m\u001b[0;34m\u001b[0m\u001b[0;34m\u001b[0m\u001b[0m\n",
            "\u001b[0;31mNameError\u001b[0m: name 'test_example_targets' is not defined"
          ]
        },
        {
          "output_type": "display_data",
          "data": {
            "image/png": "[encoded data removed]",
            "text/plain": [
              "<Figure size 432x288 with 1 Axes>"
            ]
          },
          "metadata": {
            "needs_background": "light"
          }
        }
      ]
    }
  ]
}